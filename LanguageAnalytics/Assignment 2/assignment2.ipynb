{
 "cells": [
  {
   "cell_type": "markdown",
   "id": "db31f02a-f05a-4c27-a55d-3c9e5a8966fe",
   "metadata": {},
   "source": [
    "# Assignment 2 - Sentiment and NER \n",
    "For this assignment, I'll write a small Python program to perform NER and sentiment analysis.  \n",
    "I have chosen task 2. \n",
    "\n",
    "**Description:**  \n",
    "Using the corpus of Fake vs Real news, write some code which does the following\n",
    "\n",
    " 1. Split the data into two datasets - one of Fake news and one of Real news\n",
    " 2. For every headline \n",
    "     * Get the sentiment scores\n",
    "     * Find all mentions of geopolitical entites\n",
    "     * Save a CSV which shows the text ID, the sentiment scores, and column showing all GPEs in that text\n",
    " 3. Find the 20 most common geopolitical entities mentioned across each dataset - plot the results as a bar charts"
   ]
  },
  {
   "cell_type": "markdown",
   "id": "820ab66b-8665-484b-8d0f-c17f7c42e562",
   "metadata": {},
   "source": [
    "## Preperation: Loading packages and data"
   ]
  },
  {
   "cell_type": "code",
   "execution_count": 84,
   "id": "62fc99ec-7916-4395-8455-adab088fc05a",
   "metadata": {
    "execution": {
     "iopub.execute_input": "2022-03-16T10:53:44.096077Z",
     "iopub.status.busy": "2022-03-16T10:53:44.095481Z",
     "iopub.status.idle": "2022-03-16T10:53:44.473116Z",
     "shell.execute_reply": "2022-03-16T10:53:44.472335Z",
     "shell.execute_reply.started": "2022-03-16T10:53:44.096021Z"
    },
    "tags": []
   },
   "outputs": [],
   "source": [
    "# Packages for data analysis\n",
    "import os\n",
    "import pandas as pd\n",
    "from collections import Counter\n",
    "from tqdm import tqdm\n",
    "\n",
    "# Package for NLP\n",
    "import spacy\n",
    "nlp = spacy.load(\"en_core_web_sm\")\n",
    "\n",
    "# Packages for sentiment analysis VADER\n",
    "from vaderSentiment.vaderSentiment import SentimentIntensityAnalyzer\n",
    "analyzer = SentimentIntensityAnalyzer()\n",
    "\n",
    "# Package for visualisations\n",
    "import matplotlib.pyplot as plt"
   ]
  },
  {
   "cell_type": "code",
   "execution_count": 85,
   "id": "e896393a-8eb3-46a1-9f8c-f36b457dccee",
   "metadata": {
    "execution": {
     "iopub.execute_input": "2022-03-16T10:53:44.474693Z",
     "iopub.status.busy": "2022-03-16T10:53:44.474380Z",
     "iopub.status.idle": "2022-03-16T10:53:44.600465Z",
     "shell.execute_reply": "2022-03-16T10:53:44.599373Z",
     "shell.execute_reply.started": "2022-03-16T10:53:44.474675Z"
    },
    "tags": []
   },
   "outputs": [],
   "source": [
    "# get the filepath \n",
    "filename = os.path.join(\"..\", \"..\", \"..\", \"CDS-LANG\", \"tabular_examples\", \"fake_or_real_news.csv\")"
   ]
  },
  {
   "cell_type": "code",
   "execution_count": 86,
   "id": "bfa6acc3-030e-4a06-916b-2b35e0202088",
   "metadata": {
    "execution": {
     "iopub.execute_input": "2022-03-16T10:53:44.602865Z",
     "iopub.status.busy": "2022-03-16T10:53:44.602437Z",
     "iopub.status.idle": "2022-03-16T10:53:45.180709Z",
     "shell.execute_reply": "2022-03-16T10:53:45.180026Z",
     "shell.execute_reply.started": "2022-03-16T10:53:44.602801Z"
    },
    "tags": []
   },
   "outputs": [],
   "source": [
    "# load the data\n",
    "data = pd.read_csv(filename)"
   ]
  },
  {
   "cell_type": "code",
   "execution_count": 87,
   "id": "de008bfd-96f9-4f1a-a2c7-392dd6b52436",
   "metadata": {
    "execution": {
     "iopub.execute_input": "2022-03-16T10:53:45.181661Z",
     "iopub.status.busy": "2022-03-16T10:53:45.181517Z",
     "iopub.status.idle": "2022-03-16T10:53:45.265163Z",
     "shell.execute_reply": "2022-03-16T10:53:45.264534Z",
     "shell.execute_reply.started": "2022-03-16T10:53:45.181644Z"
    }
   },
   "outputs": [
    {
     "data": {
      "text/html": [
       "<div>\n",
       "<style scoped>\n",
       "    .dataframe tbody tr th:only-of-type {\n",
       "        vertical-align: middle;\n",
       "    }\n",
       "\n",
       "    .dataframe tbody tr th {\n",
       "        vertical-align: top;\n",
       "    }\n",
       "\n",
       "    .dataframe thead th {\n",
       "        text-align: right;\n",
       "    }\n",
       "</style>\n",
       "<table border=\"1\" class=\"dataframe\">\n",
       "  <thead>\n",
       "    <tr style=\"text-align: right;\">\n",
       "      <th></th>\n",
       "      <th>Unnamed: 0</th>\n",
       "      <th>title</th>\n",
       "      <th>text</th>\n",
       "      <th>label</th>\n",
       "    </tr>\n",
       "  </thead>\n",
       "  <tbody>\n",
       "    <tr>\n",
       "      <th>0</th>\n",
       "      <td>8476</td>\n",
       "      <td>You Can Smell Hillary’s Fear</td>\n",
       "      <td>Daniel Greenfield, a Shillman Journalism Fello...</td>\n",
       "      <td>FAKE</td>\n",
       "    </tr>\n",
       "    <tr>\n",
       "      <th>1</th>\n",
       "      <td>10294</td>\n",
       "      <td>Watch The Exact Moment Paul Ryan Committed Pol...</td>\n",
       "      <td>Google Pinterest Digg Linkedin Reddit Stumbleu...</td>\n",
       "      <td>FAKE</td>\n",
       "    </tr>\n",
       "    <tr>\n",
       "      <th>2</th>\n",
       "      <td>3608</td>\n",
       "      <td>Kerry to go to Paris in gesture of sympathy</td>\n",
       "      <td>U.S. Secretary of State John F. Kerry said Mon...</td>\n",
       "      <td>REAL</td>\n",
       "    </tr>\n",
       "    <tr>\n",
       "      <th>3</th>\n",
       "      <td>10142</td>\n",
       "      <td>Bernie supporters on Twitter erupt in anger ag...</td>\n",
       "      <td>— Kaydee King (@KaydeeKing) November 9, 2016 T...</td>\n",
       "      <td>FAKE</td>\n",
       "    </tr>\n",
       "    <tr>\n",
       "      <th>4</th>\n",
       "      <td>875</td>\n",
       "      <td>The Battle of New York: Why This Primary Matters</td>\n",
       "      <td>It's primary day in New York and front-runners...</td>\n",
       "      <td>REAL</td>\n",
       "    </tr>\n",
       "    <tr>\n",
       "      <th>...</th>\n",
       "      <td>...</td>\n",
       "      <td>...</td>\n",
       "      <td>...</td>\n",
       "      <td>...</td>\n",
       "    </tr>\n",
       "    <tr>\n",
       "      <th>6330</th>\n",
       "      <td>4490</td>\n",
       "      <td>State Department says it can't find emails fro...</td>\n",
       "      <td>The State Department told the Republican Natio...</td>\n",
       "      <td>REAL</td>\n",
       "    </tr>\n",
       "    <tr>\n",
       "      <th>6331</th>\n",
       "      <td>8062</td>\n",
       "      <td>The ‘P’ in PBS Should Stand for ‘Plutocratic’ ...</td>\n",
       "      <td>The ‘P’ in PBS Should Stand for ‘Plutocratic’ ...</td>\n",
       "      <td>FAKE</td>\n",
       "    </tr>\n",
       "    <tr>\n",
       "      <th>6332</th>\n",
       "      <td>8622</td>\n",
       "      <td>Anti-Trump Protesters Are Tools of the Oligarc...</td>\n",
       "      <td>Anti-Trump Protesters Are Tools of the Oligar...</td>\n",
       "      <td>FAKE</td>\n",
       "    </tr>\n",
       "    <tr>\n",
       "      <th>6333</th>\n",
       "      <td>4021</td>\n",
       "      <td>In Ethiopia, Obama seeks progress on peace, se...</td>\n",
       "      <td>ADDIS ABABA, Ethiopia —President Obama convene...</td>\n",
       "      <td>REAL</td>\n",
       "    </tr>\n",
       "    <tr>\n",
       "      <th>6334</th>\n",
       "      <td>4330</td>\n",
       "      <td>Jeb Bush Is Suddenly Attacking Trump. Here's W...</td>\n",
       "      <td>Jeb Bush Is Suddenly Attacking Trump. Here's W...</td>\n",
       "      <td>REAL</td>\n",
       "    </tr>\n",
       "  </tbody>\n",
       "</table>\n",
       "<p>6335 rows × 4 columns</p>\n",
       "</div>"
      ],
      "text/plain": [
       "      Unnamed: 0                                              title  \\\n",
       "0           8476                       You Can Smell Hillary’s Fear   \n",
       "1          10294  Watch The Exact Moment Paul Ryan Committed Pol...   \n",
       "2           3608        Kerry to go to Paris in gesture of sympathy   \n",
       "3          10142  Bernie supporters on Twitter erupt in anger ag...   \n",
       "4            875   The Battle of New York: Why This Primary Matters   \n",
       "...          ...                                                ...   \n",
       "6330        4490  State Department says it can't find emails fro...   \n",
       "6331        8062  The ‘P’ in PBS Should Stand for ‘Plutocratic’ ...   \n",
       "6332        8622  Anti-Trump Protesters Are Tools of the Oligarc...   \n",
       "6333        4021  In Ethiopia, Obama seeks progress on peace, se...   \n",
       "6334        4330  Jeb Bush Is Suddenly Attacking Trump. Here's W...   \n",
       "\n",
       "                                                   text label  \n",
       "0     Daniel Greenfield, a Shillman Journalism Fello...  FAKE  \n",
       "1     Google Pinterest Digg Linkedin Reddit Stumbleu...  FAKE  \n",
       "2     U.S. Secretary of State John F. Kerry said Mon...  REAL  \n",
       "3     — Kaydee King (@KaydeeKing) November 9, 2016 T...  FAKE  \n",
       "4     It's primary day in New York and front-runners...  REAL  \n",
       "...                                                 ...   ...  \n",
       "6330  The State Department told the Republican Natio...  REAL  \n",
       "6331  The ‘P’ in PBS Should Stand for ‘Plutocratic’ ...  FAKE  \n",
       "6332   Anti-Trump Protesters Are Tools of the Oligar...  FAKE  \n",
       "6333  ADDIS ABABA, Ethiopia —President Obama convene...  REAL  \n",
       "6334  Jeb Bush Is Suddenly Attacking Trump. Here's W...  REAL  \n",
       "\n",
       "[6335 rows x 4 columns]"
      ]
     },
     "execution_count": 87,
     "metadata": {},
     "output_type": "execute_result"
    }
   ],
   "source": [
    "data"
   ]
  },
  {
   "cell_type": "markdown",
   "id": "4b401de6-71b1-4006-adeb-01bbff6a2513",
   "metadata": {},
   "source": [
    "## Task 1: Split the data into two datasets - one of Fake news and one of Real news"
   ]
  },
  {
   "cell_type": "markdown",
   "id": "43b1bdaf-90dd-4da7-a75d-5b3a87abb528",
   "metadata": {},
   "source": [
    "To filter on columns, I define a condition on which I want to filter and use that to filer my new DataFrame. In this case I want to use the column named ```label``` and then select either ```FAKE``` or ```REAL```.  \n",
    "I use the square-bracket syntax, just as if I were slicing a list or string."
   ]
  },
  {
   "cell_type": "markdown",
   "id": "43d3a755-3559-42ee-b8b1-a87fa2a8f2f0",
   "metadata": {},
   "source": [
    "### Fake news"
   ]
  },
  {
   "cell_type": "code",
   "execution_count": 88,
   "id": "4d8bbd12-8a79-4b9f-8570-5ff12279cfa6",
   "metadata": {
    "execution": {
     "iopub.execute_input": "2022-03-16T10:53:45.267299Z",
     "iopub.status.busy": "2022-03-16T10:53:45.266958Z",
     "iopub.status.idle": "2022-03-16T10:53:45.525086Z",
     "shell.execute_reply": "2022-03-16T10:53:45.524456Z",
     "shell.execute_reply.started": "2022-03-16T10:53:45.267282Z"
    },
    "tags": []
   },
   "outputs": [
    {
     "data": {
      "text/html": [
       "<div>\n",
       "<style scoped>\n",
       "    .dataframe tbody tr th:only-of-type {\n",
       "        vertical-align: middle;\n",
       "    }\n",
       "\n",
       "    .dataframe tbody tr th {\n",
       "        vertical-align: top;\n",
       "    }\n",
       "\n",
       "    .dataframe thead th {\n",
       "        text-align: right;\n",
       "    }\n",
       "</style>\n",
       "<table border=\"1\" class=\"dataframe\">\n",
       "  <thead>\n",
       "    <tr style=\"text-align: right;\">\n",
       "      <th></th>\n",
       "      <th>Unnamed: 0</th>\n",
       "      <th>title</th>\n",
       "      <th>text</th>\n",
       "      <th>label</th>\n",
       "    </tr>\n",
       "  </thead>\n",
       "  <tbody>\n",
       "    <tr>\n",
       "      <th>0</th>\n",
       "      <td>8476</td>\n",
       "      <td>You Can Smell Hillary’s Fear</td>\n",
       "      <td>Daniel Greenfield, a Shillman Journalism Fello...</td>\n",
       "      <td>FAKE</td>\n",
       "    </tr>\n",
       "    <tr>\n",
       "      <th>1</th>\n",
       "      <td>10294</td>\n",
       "      <td>Watch The Exact Moment Paul Ryan Committed Pol...</td>\n",
       "      <td>Google Pinterest Digg Linkedin Reddit Stumbleu...</td>\n",
       "      <td>FAKE</td>\n",
       "    </tr>\n",
       "    <tr>\n",
       "      <th>3</th>\n",
       "      <td>10142</td>\n",
       "      <td>Bernie supporters on Twitter erupt in anger ag...</td>\n",
       "      <td>— Kaydee King (@KaydeeKing) November 9, 2016 T...</td>\n",
       "      <td>FAKE</td>\n",
       "    </tr>\n",
       "    <tr>\n",
       "      <th>5</th>\n",
       "      <td>6903</td>\n",
       "      <td>Tehran, USA</td>\n",
       "      <td>\\nI’m not an immigrant, but my grandparents ...</td>\n",
       "      <td>FAKE</td>\n",
       "    </tr>\n",
       "    <tr>\n",
       "      <th>6</th>\n",
       "      <td>7341</td>\n",
       "      <td>Girl Horrified At What She Watches Boyfriend D...</td>\n",
       "      <td>Share This Baylee Luciani (left), Screenshot o...</td>\n",
       "      <td>FAKE</td>\n",
       "    </tr>\n",
       "    <tr>\n",
       "      <th>...</th>\n",
       "      <td>...</td>\n",
       "      <td>...</td>\n",
       "      <td>...</td>\n",
       "      <td>...</td>\n",
       "    </tr>\n",
       "    <tr>\n",
       "      <th>6326</th>\n",
       "      <td>6143</td>\n",
       "      <td>DOJ COMPLAINT: Comey Under Fire Over Partisan ...</td>\n",
       "      <td>DOJ COMPLAINT: Comey Under Fire Over Partisan ...</td>\n",
       "      <td>FAKE</td>\n",
       "    </tr>\n",
       "    <tr>\n",
       "      <th>6328</th>\n",
       "      <td>9337</td>\n",
       "      <td>Radio Derb Is On The Air–Leonardo And Brazil’s...</td>\n",
       "      <td></td>\n",
       "      <td>FAKE</td>\n",
       "    </tr>\n",
       "    <tr>\n",
       "      <th>6329</th>\n",
       "      <td>8737</td>\n",
       "      <td>Assange claims ‘crazed’ Clinton campaign tried...</td>\n",
       "      <td>Julian Assange has claimed the Hillary Clinton...</td>\n",
       "      <td>FAKE</td>\n",
       "    </tr>\n",
       "    <tr>\n",
       "      <th>6331</th>\n",
       "      <td>8062</td>\n",
       "      <td>The ‘P’ in PBS Should Stand for ‘Plutocratic’ ...</td>\n",
       "      <td>The ‘P’ in PBS Should Stand for ‘Plutocratic’ ...</td>\n",
       "      <td>FAKE</td>\n",
       "    </tr>\n",
       "    <tr>\n",
       "      <th>6332</th>\n",
       "      <td>8622</td>\n",
       "      <td>Anti-Trump Protesters Are Tools of the Oligarc...</td>\n",
       "      <td>Anti-Trump Protesters Are Tools of the Oligar...</td>\n",
       "      <td>FAKE</td>\n",
       "    </tr>\n",
       "  </tbody>\n",
       "</table>\n",
       "<p>3164 rows × 4 columns</p>\n",
       "</div>"
      ],
      "text/plain": [
       "      Unnamed: 0                                              title  \\\n",
       "0           8476                       You Can Smell Hillary’s Fear   \n",
       "1          10294  Watch The Exact Moment Paul Ryan Committed Pol...   \n",
       "3          10142  Bernie supporters on Twitter erupt in anger ag...   \n",
       "5           6903                                        Tehran, USA   \n",
       "6           7341  Girl Horrified At What She Watches Boyfriend D...   \n",
       "...          ...                                                ...   \n",
       "6326        6143  DOJ COMPLAINT: Comey Under Fire Over Partisan ...   \n",
       "6328        9337  Radio Derb Is On The Air–Leonardo And Brazil’s...   \n",
       "6329        8737  Assange claims ‘crazed’ Clinton campaign tried...   \n",
       "6331        8062  The ‘P’ in PBS Should Stand for ‘Plutocratic’ ...   \n",
       "6332        8622  Anti-Trump Protesters Are Tools of the Oligarc...   \n",
       "\n",
       "                                                   text label  \n",
       "0     Daniel Greenfield, a Shillman Journalism Fello...  FAKE  \n",
       "1     Google Pinterest Digg Linkedin Reddit Stumbleu...  FAKE  \n",
       "3     — Kaydee King (@KaydeeKing) November 9, 2016 T...  FAKE  \n",
       "5       \\nI’m not an immigrant, but my grandparents ...  FAKE  \n",
       "6     Share This Baylee Luciani (left), Screenshot o...  FAKE  \n",
       "...                                                 ...   ...  \n",
       "6326  DOJ COMPLAINT: Comey Under Fire Over Partisan ...  FAKE  \n",
       "6328                                                     FAKE  \n",
       "6329  Julian Assange has claimed the Hillary Clinton...  FAKE  \n",
       "6331  The ‘P’ in PBS Should Stand for ‘Plutocratic’ ...  FAKE  \n",
       "6332   Anti-Trump Protesters Are Tools of the Oligar...  FAKE  \n",
       "\n",
       "[3164 rows x 4 columns]"
      ]
     },
     "execution_count": 88,
     "metadata": {},
     "output_type": "execute_result"
    }
   ],
   "source": [
    "# create dataframe with Fake news\n",
    "fake_news_df = data[data[\"label\"]==\"FAKE\"]\n",
    "\n",
    "# let's have a look at our new pretty dataframe with all the fake news\n",
    "fake_news_df"
   ]
  },
  {
   "cell_type": "markdown",
   "id": "e202a8e0-cad2-4814-a794-ff687343c1f3",
   "metadata": {},
   "source": [
    "### Real news"
   ]
  },
  {
   "cell_type": "code",
   "execution_count": 89,
   "id": "01fb9da4-452e-4188-94d2-8db557d11f66",
   "metadata": {
    "execution": {
     "iopub.execute_input": "2022-03-16T10:53:45.526145Z",
     "iopub.status.busy": "2022-03-16T10:53:45.525963Z",
     "iopub.status.idle": "2022-03-16T10:53:45.828674Z",
     "shell.execute_reply": "2022-03-16T10:53:45.827791Z",
     "shell.execute_reply.started": "2022-03-16T10:53:45.526126Z"
    },
    "tags": []
   },
   "outputs": [
    {
     "data": {
      "text/html": [
       "<div>\n",
       "<style scoped>\n",
       "    .dataframe tbody tr th:only-of-type {\n",
       "        vertical-align: middle;\n",
       "    }\n",
       "\n",
       "    .dataframe tbody tr th {\n",
       "        vertical-align: top;\n",
       "    }\n",
       "\n",
       "    .dataframe thead th {\n",
       "        text-align: right;\n",
       "    }\n",
       "</style>\n",
       "<table border=\"1\" class=\"dataframe\">\n",
       "  <thead>\n",
       "    <tr style=\"text-align: right;\">\n",
       "      <th></th>\n",
       "      <th>Unnamed: 0</th>\n",
       "      <th>title</th>\n",
       "      <th>text</th>\n",
       "      <th>label</th>\n",
       "    </tr>\n",
       "  </thead>\n",
       "  <tbody>\n",
       "    <tr>\n",
       "      <th>2</th>\n",
       "      <td>3608</td>\n",
       "      <td>Kerry to go to Paris in gesture of sympathy</td>\n",
       "      <td>U.S. Secretary of State John F. Kerry said Mon...</td>\n",
       "      <td>REAL</td>\n",
       "    </tr>\n",
       "    <tr>\n",
       "      <th>4</th>\n",
       "      <td>875</td>\n",
       "      <td>The Battle of New York: Why This Primary Matters</td>\n",
       "      <td>It's primary day in New York and front-runners...</td>\n",
       "      <td>REAL</td>\n",
       "    </tr>\n",
       "    <tr>\n",
       "      <th>7</th>\n",
       "      <td>95</td>\n",
       "      <td>‘Britain’s Schindler’ Dies at 106</td>\n",
       "      <td>A Czech stockbroker who saved more than 650 Je...</td>\n",
       "      <td>REAL</td>\n",
       "    </tr>\n",
       "    <tr>\n",
       "      <th>8</th>\n",
       "      <td>4869</td>\n",
       "      <td>Fact check: Trump and Clinton at the 'commande...</td>\n",
       "      <td>Hillary Clinton and Donald Trump made some ina...</td>\n",
       "      <td>REAL</td>\n",
       "    </tr>\n",
       "    <tr>\n",
       "      <th>9</th>\n",
       "      <td>2909</td>\n",
       "      <td>Iran reportedly makes new push for uranium con...</td>\n",
       "      <td>Iranian negotiators reportedly have made a las...</td>\n",
       "      <td>REAL</td>\n",
       "    </tr>\n",
       "    <tr>\n",
       "      <th>...</th>\n",
       "      <td>...</td>\n",
       "      <td>...</td>\n",
       "      <td>...</td>\n",
       "      <td>...</td>\n",
       "    </tr>\n",
       "    <tr>\n",
       "      <th>6324</th>\n",
       "      <td>2316</td>\n",
       "      <td>Alabama Lawmaker: Same-Sex Couples Don’t Deser...</td>\n",
       "      <td>Most conservatives who oppose marriage equalit...</td>\n",
       "      <td>REAL</td>\n",
       "    </tr>\n",
       "    <tr>\n",
       "      <th>6327</th>\n",
       "      <td>3262</td>\n",
       "      <td>GOP Senator David Perdue Jokes About Praying f...</td>\n",
       "      <td>The freshman senator from Georgia quoted scrip...</td>\n",
       "      <td>REAL</td>\n",
       "    </tr>\n",
       "    <tr>\n",
       "      <th>6330</th>\n",
       "      <td>4490</td>\n",
       "      <td>State Department says it can't find emails fro...</td>\n",
       "      <td>The State Department told the Republican Natio...</td>\n",
       "      <td>REAL</td>\n",
       "    </tr>\n",
       "    <tr>\n",
       "      <th>6333</th>\n",
       "      <td>4021</td>\n",
       "      <td>In Ethiopia, Obama seeks progress on peace, se...</td>\n",
       "      <td>ADDIS ABABA, Ethiopia —President Obama convene...</td>\n",
       "      <td>REAL</td>\n",
       "    </tr>\n",
       "    <tr>\n",
       "      <th>6334</th>\n",
       "      <td>4330</td>\n",
       "      <td>Jeb Bush Is Suddenly Attacking Trump. Here's W...</td>\n",
       "      <td>Jeb Bush Is Suddenly Attacking Trump. Here's W...</td>\n",
       "      <td>REAL</td>\n",
       "    </tr>\n",
       "  </tbody>\n",
       "</table>\n",
       "<p>3171 rows × 4 columns</p>\n",
       "</div>"
      ],
      "text/plain": [
       "      Unnamed: 0                                              title  \\\n",
       "2           3608        Kerry to go to Paris in gesture of sympathy   \n",
       "4            875   The Battle of New York: Why This Primary Matters   \n",
       "7             95                  ‘Britain’s Schindler’ Dies at 106   \n",
       "8           4869  Fact check: Trump and Clinton at the 'commande...   \n",
       "9           2909  Iran reportedly makes new push for uranium con...   \n",
       "...          ...                                                ...   \n",
       "6324        2316  Alabama Lawmaker: Same-Sex Couples Don’t Deser...   \n",
       "6327        3262  GOP Senator David Perdue Jokes About Praying f...   \n",
       "6330        4490  State Department says it can't find emails fro...   \n",
       "6333        4021  In Ethiopia, Obama seeks progress on peace, se...   \n",
       "6334        4330  Jeb Bush Is Suddenly Attacking Trump. Here's W...   \n",
       "\n",
       "                                                   text label  \n",
       "2     U.S. Secretary of State John F. Kerry said Mon...  REAL  \n",
       "4     It's primary day in New York and front-runners...  REAL  \n",
       "7     A Czech stockbroker who saved more than 650 Je...  REAL  \n",
       "8     Hillary Clinton and Donald Trump made some ina...  REAL  \n",
       "9     Iranian negotiators reportedly have made a las...  REAL  \n",
       "...                                                 ...   ...  \n",
       "6324  Most conservatives who oppose marriage equalit...  REAL  \n",
       "6327  The freshman senator from Georgia quoted scrip...  REAL  \n",
       "6330  The State Department told the Republican Natio...  REAL  \n",
       "6333  ADDIS ABABA, Ethiopia —President Obama convene...  REAL  \n",
       "6334  Jeb Bush Is Suddenly Attacking Trump. Here's W...  REAL  \n",
       "\n",
       "[3171 rows x 4 columns]"
      ]
     },
     "execution_count": 89,
     "metadata": {},
     "output_type": "execute_result"
    }
   ],
   "source": [
    "# create dataset with Real news\n",
    "real_news_df = data[data[\"label\"]==\"REAL\"]\n",
    "\n",
    "# let's have a look at our real news!\n",
    "real_news_df"
   ]
  },
  {
   "cell_type": "markdown",
   "id": "bf67d667-b8c6-4902-8f53-fc1e2e48a15f",
   "metadata": {},
   "source": [
    "## Task 2.1.: For every headline... get the sentiment scores \n",
    "I have chosen to use VADER for my sentiment analysis."
   ]
  },
  {
   "cell_type": "markdown",
   "id": "3fc21bb5-6025-41de-8fb4-e4b2c26ce01d",
   "metadata": {},
   "source": [
    "### Fake news"
   ]
  },
  {
   "cell_type": "markdown",
   "id": "3627802d-08f4-4073-8fa4-39b8436818d5",
   "metadata": {},
   "source": [
    "Step 1: Get polarity score for all headlines in the fake news dataframe"
   ]
  },
  {
   "cell_type": "code",
   "execution_count": 90,
   "id": "f251e710-58d6-4a1d-a85b-532a1d8a0d9a",
   "metadata": {
    "execution": {
     "iopub.execute_input": "2022-03-16T10:53:45.830082Z",
     "iopub.status.busy": "2022-03-16T10:53:45.829855Z",
     "iopub.status.idle": "2022-03-16T10:53:46.433915Z",
     "shell.execute_reply": "2022-03-16T10:53:46.432795Z",
     "shell.execute_reply.started": "2022-03-16T10:53:45.830059Z"
    },
    "tags": []
   },
   "outputs": [],
   "source": [
    "# create empty list\n",
    "vader_scores_fake = [] \n",
    "\n",
    "# for every headline in the fake news df using the column named \"title\"\n",
    "for headline in fake_news_df[\"title\"]: \n",
    "    # get the polarity score of the headline\n",
    "    score = analyzer.polarity_scores(headline) \n",
    "    # append score to empty list\n",
    "    vader_scores_fake.append(score) "
   ]
  },
  {
   "cell_type": "markdown",
   "id": "be4038a8-d30d-4366-b670-bd8d4bab68c6",
   "metadata": {},
   "source": [
    "Step 2: Convert list to dataframe and display it. "
   ]
  },
  {
   "cell_type": "code",
   "execution_count": 91,
   "id": "e432e9e3-0bdc-42f3-b402-62dca852269a",
   "metadata": {
    "execution": {
     "iopub.execute_input": "2022-03-16T10:53:46.434737Z",
     "iopub.status.busy": "2022-03-16T10:53:46.434601Z",
     "iopub.status.idle": "2022-03-16T10:53:46.508280Z",
     "shell.execute_reply": "2022-03-16T10:53:46.507572Z",
     "shell.execute_reply.started": "2022-03-16T10:53:46.434722Z"
    },
    "tags": []
   },
   "outputs": [],
   "source": [
    "# convert to dataframe\n",
    "vader_df_fake = pd.DataFrame(vader_scores_fake)"
   ]
  },
  {
   "cell_type": "code",
   "execution_count": 92,
   "id": "a1fc41d2-f564-48b3-b8cd-0f674dbc8482",
   "metadata": {
    "execution": {
     "iopub.execute_input": "2022-03-16T10:53:46.509699Z",
     "iopub.status.busy": "2022-03-16T10:53:46.509477Z",
     "iopub.status.idle": "2022-03-16T10:53:46.839490Z",
     "shell.execute_reply": "2022-03-16T10:53:46.838839Z",
     "shell.execute_reply.started": "2022-03-16T10:53:46.509674Z"
    },
    "tags": []
   },
   "outputs": [
    {
     "data": {
      "text/html": [
       "<div>\n",
       "<style scoped>\n",
       "    .dataframe tbody tr th:only-of-type {\n",
       "        vertical-align: middle;\n",
       "    }\n",
       "\n",
       "    .dataframe tbody tr th {\n",
       "        vertical-align: top;\n",
       "    }\n",
       "\n",
       "    .dataframe thead th {\n",
       "        text-align: right;\n",
       "    }\n",
       "</style>\n",
       "<table border=\"1\" class=\"dataframe\">\n",
       "  <thead>\n",
       "    <tr style=\"text-align: right;\">\n",
       "      <th></th>\n",
       "      <th>neg</th>\n",
       "      <th>neu</th>\n",
       "      <th>pos</th>\n",
       "      <th>compound</th>\n",
       "    </tr>\n",
       "  </thead>\n",
       "  <tbody>\n",
       "    <tr>\n",
       "      <th>0</th>\n",
       "      <td>0.444</td>\n",
       "      <td>0.556</td>\n",
       "      <td>0.000</td>\n",
       "      <td>-0.4939</td>\n",
       "    </tr>\n",
       "    <tr>\n",
       "      <th>1</th>\n",
       "      <td>0.242</td>\n",
       "      <td>0.645</td>\n",
       "      <td>0.113</td>\n",
       "      <td>-0.5267</td>\n",
       "    </tr>\n",
       "    <tr>\n",
       "      <th>2</th>\n",
       "      <td>0.266</td>\n",
       "      <td>0.591</td>\n",
       "      <td>0.143</td>\n",
       "      <td>-0.3595</td>\n",
       "    </tr>\n",
       "    <tr>\n",
       "      <th>3</th>\n",
       "      <td>0.000</td>\n",
       "      <td>1.000</td>\n",
       "      <td>0.000</td>\n",
       "      <td>0.0000</td>\n",
       "    </tr>\n",
       "    <tr>\n",
       "      <th>4</th>\n",
       "      <td>0.226</td>\n",
       "      <td>0.774</td>\n",
       "      <td>0.000</td>\n",
       "      <td>-0.5423</td>\n",
       "    </tr>\n",
       "    <tr>\n",
       "      <th>...</th>\n",
       "      <td>...</td>\n",
       "      <td>...</td>\n",
       "      <td>...</td>\n",
       "      <td>...</td>\n",
       "    </tr>\n",
       "    <tr>\n",
       "      <th>3159</th>\n",
       "      <td>0.465</td>\n",
       "      <td>0.535</td>\n",
       "      <td>0.000</td>\n",
       "      <td>-0.7804</td>\n",
       "    </tr>\n",
       "    <tr>\n",
       "      <th>3160</th>\n",
       "      <td>0.118</td>\n",
       "      <td>0.882</td>\n",
       "      <td>0.000</td>\n",
       "      <td>-0.1531</td>\n",
       "    </tr>\n",
       "    <tr>\n",
       "      <th>3161</th>\n",
       "      <td>0.000</td>\n",
       "      <td>1.000</td>\n",
       "      <td>0.000</td>\n",
       "      <td>0.0000</td>\n",
       "    </tr>\n",
       "    <tr>\n",
       "      <th>3162</th>\n",
       "      <td>0.000</td>\n",
       "      <td>1.000</td>\n",
       "      <td>0.000</td>\n",
       "      <td>0.0000</td>\n",
       "    </tr>\n",
       "    <tr>\n",
       "      <th>3163</th>\n",
       "      <td>0.192</td>\n",
       "      <td>0.808</td>\n",
       "      <td>0.000</td>\n",
       "      <td>-0.2263</td>\n",
       "    </tr>\n",
       "  </tbody>\n",
       "</table>\n",
       "<p>3164 rows × 4 columns</p>\n",
       "</div>"
      ],
      "text/plain": [
       "        neg    neu    pos  compound\n",
       "0     0.444  0.556  0.000   -0.4939\n",
       "1     0.242  0.645  0.113   -0.5267\n",
       "2     0.266  0.591  0.143   -0.3595\n",
       "3     0.000  1.000  0.000    0.0000\n",
       "4     0.226  0.774  0.000   -0.5423\n",
       "...     ...    ...    ...       ...\n",
       "3159  0.465  0.535  0.000   -0.7804\n",
       "3160  0.118  0.882  0.000   -0.1531\n",
       "3161  0.000  1.000  0.000    0.0000\n",
       "3162  0.000  1.000  0.000    0.0000\n",
       "3163  0.192  0.808  0.000   -0.2263\n",
       "\n",
       "[3164 rows x 4 columns]"
      ]
     },
     "execution_count": 92,
     "metadata": {},
     "output_type": "execute_result"
    }
   ],
   "source": [
    "# display\n",
    "vader_df_fake"
   ]
  },
  {
   "cell_type": "markdown",
   "id": "6eae5769-de92-4799-b4cb-d7975a89ddca",
   "metadata": {},
   "source": [
    "### Real news"
   ]
  },
  {
   "cell_type": "markdown",
   "id": "2c8f5509-3084-43c4-9ed6-9fdb3cf68eba",
   "metadata": {},
   "source": [
    "Step 1: Get polarity score for all headlines in the real news dataframe"
   ]
  },
  {
   "cell_type": "code",
   "execution_count": 93,
   "id": "25f48d7e-d0b9-431e-87ff-0e4b35f92a30",
   "metadata": {
    "execution": {
     "iopub.execute_input": "2022-03-16T10:53:46.840772Z",
     "iopub.status.busy": "2022-03-16T10:53:46.840581Z",
     "iopub.status.idle": "2022-03-16T10:53:47.261209Z",
     "shell.execute_reply": "2022-03-16T10:53:47.260586Z",
     "shell.execute_reply.started": "2022-03-16T10:53:46.840736Z"
    },
    "tags": []
   },
   "outputs": [],
   "source": [
    "# create empty list\n",
    "vader_scores_real = []\n",
    "\n",
    "# for every headline in the real news df using the column \"title\"\n",
    "for headline in real_news_df[\"title\"]:\n",
    "    # get the polarity score of the headline\n",
    "    score = analyzer.polarity_scores(headline)\n",
    "    # append score to empty list\n",
    "    vader_scores_real.append(score)"
   ]
  },
  {
   "cell_type": "markdown",
   "id": "4fa23190-4905-4bf4-bf83-4767cfb46e5c",
   "metadata": {},
   "source": [
    "Step 2: Convert list to dataframe and display it. "
   ]
  },
  {
   "cell_type": "code",
   "execution_count": 94,
   "id": "16faded2-9594-4375-90b0-46c78b902d5c",
   "metadata": {
    "execution": {
     "iopub.execute_input": "2022-03-16T10:53:47.262127Z",
     "iopub.status.busy": "2022-03-16T10:53:47.261965Z",
     "iopub.status.idle": "2022-03-16T10:53:47.389182Z",
     "shell.execute_reply": "2022-03-16T10:53:47.388280Z",
     "shell.execute_reply.started": "2022-03-16T10:53:47.262110Z"
    },
    "tags": []
   },
   "outputs": [],
   "source": [
    "# convert to dataframe\n",
    "vader_df_real = pd.DataFrame(vader_scores_real)"
   ]
  },
  {
   "cell_type": "code",
   "execution_count": 95,
   "id": "72e8c522-77e2-42ea-ac39-23f778a889ba",
   "metadata": {
    "execution": {
     "iopub.execute_input": "2022-03-16T10:53:47.391570Z",
     "iopub.status.busy": "2022-03-16T10:53:47.391021Z",
     "iopub.status.idle": "2022-03-16T10:53:47.724591Z",
     "shell.execute_reply": "2022-03-16T10:53:47.723527Z",
     "shell.execute_reply.started": "2022-03-16T10:53:47.391530Z"
    },
    "tags": []
   },
   "outputs": [
    {
     "data": {
      "text/html": [
       "<div>\n",
       "<style scoped>\n",
       "    .dataframe tbody tr th:only-of-type {\n",
       "        vertical-align: middle;\n",
       "    }\n",
       "\n",
       "    .dataframe tbody tr th {\n",
       "        vertical-align: top;\n",
       "    }\n",
       "\n",
       "    .dataframe thead th {\n",
       "        text-align: right;\n",
       "    }\n",
       "</style>\n",
       "<table border=\"1\" class=\"dataframe\">\n",
       "  <thead>\n",
       "    <tr style=\"text-align: right;\">\n",
       "      <th></th>\n",
       "      <th>neg</th>\n",
       "      <th>neu</th>\n",
       "      <th>pos</th>\n",
       "      <th>compound</th>\n",
       "    </tr>\n",
       "  </thead>\n",
       "  <tbody>\n",
       "    <tr>\n",
       "      <th>0</th>\n",
       "      <td>0.000</td>\n",
       "      <td>0.762</td>\n",
       "      <td>0.238</td>\n",
       "      <td>0.3612</td>\n",
       "    </tr>\n",
       "    <tr>\n",
       "      <th>1</th>\n",
       "      <td>0.243</td>\n",
       "      <td>0.654</td>\n",
       "      <td>0.103</td>\n",
       "      <td>-0.3612</td>\n",
       "    </tr>\n",
       "    <tr>\n",
       "      <th>2</th>\n",
       "      <td>0.000</td>\n",
       "      <td>1.000</td>\n",
       "      <td>0.000</td>\n",
       "      <td>0.0000</td>\n",
       "    </tr>\n",
       "    <tr>\n",
       "      <th>3</th>\n",
       "      <td>0.000</td>\n",
       "      <td>1.000</td>\n",
       "      <td>0.000</td>\n",
       "      <td>0.0000</td>\n",
       "    </tr>\n",
       "    <tr>\n",
       "      <th>4</th>\n",
       "      <td>0.000</td>\n",
       "      <td>1.000</td>\n",
       "      <td>0.000</td>\n",
       "      <td>0.0000</td>\n",
       "    </tr>\n",
       "    <tr>\n",
       "      <th>...</th>\n",
       "      <td>...</td>\n",
       "      <td>...</td>\n",
       "      <td>...</td>\n",
       "      <td>...</td>\n",
       "    </tr>\n",
       "    <tr>\n",
       "      <th>3166</th>\n",
       "      <td>0.000</td>\n",
       "      <td>0.809</td>\n",
       "      <td>0.191</td>\n",
       "      <td>0.3818</td>\n",
       "    </tr>\n",
       "    <tr>\n",
       "      <th>3167</th>\n",
       "      <td>0.253</td>\n",
       "      <td>0.455</td>\n",
       "      <td>0.292</td>\n",
       "      <td>-0.1027</td>\n",
       "    </tr>\n",
       "    <tr>\n",
       "      <th>3168</th>\n",
       "      <td>0.000</td>\n",
       "      <td>1.000</td>\n",
       "      <td>0.000</td>\n",
       "      <td>0.0000</td>\n",
       "    </tr>\n",
       "    <tr>\n",
       "      <th>3169</th>\n",
       "      <td>0.000</td>\n",
       "      <td>0.479</td>\n",
       "      <td>0.521</td>\n",
       "      <td>0.8271</td>\n",
       "    </tr>\n",
       "    <tr>\n",
       "      <th>3170</th>\n",
       "      <td>0.248</td>\n",
       "      <td>0.661</td>\n",
       "      <td>0.091</td>\n",
       "      <td>-0.4404</td>\n",
       "    </tr>\n",
       "  </tbody>\n",
       "</table>\n",
       "<p>3171 rows × 4 columns</p>\n",
       "</div>"
      ],
      "text/plain": [
       "        neg    neu    pos  compound\n",
       "0     0.000  0.762  0.238    0.3612\n",
       "1     0.243  0.654  0.103   -0.3612\n",
       "2     0.000  1.000  0.000    0.0000\n",
       "3     0.000  1.000  0.000    0.0000\n",
       "4     0.000  1.000  0.000    0.0000\n",
       "...     ...    ...    ...       ...\n",
       "3166  0.000  0.809  0.191    0.3818\n",
       "3167  0.253  0.455  0.292   -0.1027\n",
       "3168  0.000  1.000  0.000    0.0000\n",
       "3169  0.000  0.479  0.521    0.8271\n",
       "3170  0.248  0.661  0.091   -0.4404\n",
       "\n",
       "[3171 rows x 4 columns]"
      ]
     },
     "execution_count": 95,
     "metadata": {},
     "output_type": "execute_result"
    }
   ],
   "source": [
    "# display\n",
    "vader_df_real"
   ]
  },
  {
   "cell_type": "markdown",
   "id": "d90a59d6-e034-4b7c-ac05-e6299ef8c389",
   "metadata": {},
   "source": [
    "## Task 2.2.: For every headline... find all mentions of geopolitical entites  \n",
    "I'll be doing a NER using ```spaCy``` in order to find every individual occurrence of some kind of named entity, in this case the mentions of all geopolitical entities (shortened to GPE). "
   ]
  },
  {
   "cell_type": "code",
   "execution_count": 96,
   "id": "44f1d26e-9c5d-4eee-ab3e-4f19eade9cc8",
   "metadata": {
    "execution": {
     "iopub.execute_input": "2022-03-16T10:53:47.726065Z",
     "iopub.status.busy": "2022-03-16T10:53:47.725673Z",
     "iopub.status.idle": "2022-03-16T10:53:48.040062Z",
     "shell.execute_reply": "2022-03-16T10:53:48.039037Z",
     "shell.execute_reply.started": "2022-03-16T10:53:47.726038Z"
    },
    "tags": []
   },
   "outputs": [
    {
     "data": {
      "text/plain": [
       "'Countries, cities, states'"
      ]
     },
     "execution_count": 96,
     "metadata": {},
     "output_type": "execute_result"
    }
   ],
   "source": [
    "# But what does GPE cover? Let's have a look\n",
    "spacy.explain(\"GPE\")"
   ]
  },
  {
   "cell_type": "markdown",
   "id": "17daab57-dad1-427b-9abd-8b7157867a19",
   "metadata": {},
   "source": [
    "### Fake News"
   ]
  },
  {
   "cell_type": "markdown",
   "id": "9dc4024c-f0bf-4de2-96d5-b4197b989d1f",
   "metadata": {},
   "source": [
    "Step 1: Find batch size for dataset."
   ]
  },
  {
   "cell_type": "code",
   "execution_count": 97,
   "id": "dfa79977-6315-4c58-b0f9-2a32b4dbf2a3",
   "metadata": {
    "execution": {
     "iopub.execute_input": "2022-03-16T10:53:48.046484Z",
     "iopub.status.busy": "2022-03-16T10:53:48.046069Z",
     "iopub.status.idle": "2022-03-16T10:53:48.348217Z",
     "shell.execute_reply": "2022-03-16T10:53:48.347257Z",
     "shell.execute_reply.started": "2022-03-16T10:53:48.046442Z"
    },
    "tags": []
   },
   "outputs": [
    {
     "data": {
      "text/plain": [
       "FAKE    3164\n",
       "Name: label, dtype: int64"
      ]
     },
     "execution_count": 97,
     "metadata": {},
     "output_type": "execute_result"
    }
   ],
   "source": [
    "# find batch size for fake news\n",
    "fake_news_df[\"label\"].value_counts()"
   ]
  },
  {
   "cell_type": "markdown",
   "id": "2642aec8-9565-4fba-981e-f00dbcc0f86c",
   "metadata": {},
   "source": [
    "Step 2: Find GPE in headlines in the fake news dataframe"
   ]
  },
  {
   "cell_type": "code",
   "execution_count": 100,
   "id": "8867661c-0a06-47d4-bade-f5fc98644e28",
   "metadata": {
    "execution": {
     "iopub.execute_input": "2022-03-16T10:54:29.434554Z",
     "iopub.status.busy": "2022-03-16T10:54:29.433880Z",
     "iopub.status.idle": "2022-03-16T10:54:32.621734Z",
     "shell.execute_reply": "2022-03-16T10:54:32.621149Z",
     "shell.execute_reply.started": "2022-03-16T10:54:29.434502Z"
    },
    "tags": []
   },
   "outputs": [
    {
     "name": "stderr",
     "output_type": "stream",
     "text": [
      "3164it [00:03, 996.38it/s]\n"
     ]
    }
   ],
   "source": [
    "# create empty list\n",
    "fake_gpe = []\n",
    "\n",
    "# for every headline in tqdm (I'm not quite sure what tqdm stands for...), pipe through fake news df using the column \"title\" and go through 3164 of them\n",
    "for headline in tqdm(nlp.pipe(fake_news_df[\"title\"], batch_size=3164)):\n",
    "    # and for every entity in these headlines\n",
    "    for entity in headline.ents:\n",
    "        # if that entity is labeled \"GPE\"\n",
    "        if entity.label_ == \"GPE\":\n",
    "            fake_gpe.append(entity.text)"
   ]
  },
  {
   "cell_type": "markdown",
   "id": "269629b1-f53d-4353-a492-583304ecbf82",
   "metadata": {},
   "source": [
    "### Real news"
   ]
  },
  {
   "cell_type": "markdown",
   "id": "434c4138-309c-46e8-9f1d-558be32deb9c",
   "metadata": {},
   "source": [
    "Step 1: Find batch size for dataset."
   ]
  },
  {
   "cell_type": "code",
   "execution_count": 101,
   "id": "57712964-c802-4fd4-ab65-afcefc2cd74e",
   "metadata": {
    "execution": {
     "iopub.execute_input": "2022-03-16T10:54:32.623049Z",
     "iopub.status.busy": "2022-03-16T10:54:32.622895Z",
     "iopub.status.idle": "2022-03-16T10:54:32.629296Z",
     "shell.execute_reply": "2022-03-16T10:54:32.628819Z",
     "shell.execute_reply.started": "2022-03-16T10:54:32.623034Z"
    }
   },
   "outputs": [
    {
     "data": {
      "text/plain": [
       "REAL    3171\n",
       "Name: label, dtype: int64"
      ]
     },
     "execution_count": 101,
     "metadata": {},
     "output_type": "execute_result"
    }
   ],
   "source": [
    "# find batch size for real news\n",
    "real_news_df[\"label\"].value_counts()"
   ]
  },
  {
   "cell_type": "markdown",
   "id": "ec99290c-5e52-4f65-ada2-23aed67eb6d1",
   "metadata": {},
   "source": [
    "Step 2: Find GPE in headlines in the fake news dataframe"
   ]
  },
  {
   "cell_type": "code",
   "execution_count": 102,
   "id": "4345a830-15ae-4e93-b0b0-2a7dc3d4b8d8",
   "metadata": {
    "execution": {
     "iopub.execute_input": "2022-03-16T10:54:32.630050Z",
     "iopub.status.busy": "2022-03-16T10:54:32.629923Z",
     "iopub.status.idle": "2022-03-16T10:54:36.596460Z",
     "shell.execute_reply": "2022-03-16T10:54:36.595883Z",
     "shell.execute_reply.started": "2022-03-16T10:54:32.630036Z"
    },
    "tags": []
   },
   "outputs": [
    {
     "name": "stderr",
     "output_type": "stream",
     "text": [
      "3171it [00:03, 912.06it/s]\n"
     ]
    }
   ],
   "source": [
    "# Create empty list\n",
    "real_gpe = []\n",
    "\n",
    "# for every headline in tqdm (I'm not quite sure what tqdm stands for...), pipe through real news df using the column \"title\" and go through 3171 of them\n",
    "for headline in tqdm(nlp.pipe(real_news_df[\"title\"], batch_size=3171)):\n",
    "    # and for every entity in these headlines\n",
    "    for entity in headline.ents:\n",
    "        # if that entity is labeled \"GPE\"\n",
    "        if entity.label_ == \"GPE\":\n",
    "            # append to real_gpe\n",
    "            real_gpe.append(entity.text)"
   ]
  },
  {
   "cell_type": "markdown",
   "id": "ef7594ff-3857-47d9-ae69-18b06de19748",
   "metadata": {},
   "source": [
    "## Task 2.3.: Save a CSV which shows the text ID, the sentiment scores, and column showing all GPEs in that text"
   ]
  },
  {
   "cell_type": "markdown",
   "id": "e3f86603-4b02-4d3d-bc91-4251352a549e",
   "metadata": {},
   "source": [
    "### Fake news"
   ]
  },
  {
   "cell_type": "code",
   "execution_count": 103,
   "id": "59db2587-49d7-4a8a-b1ea-acee230e1c2f",
   "metadata": {
    "execution": {
     "iopub.execute_input": "2022-03-16T10:54:36.598111Z",
     "iopub.status.busy": "2022-03-16T10:54:36.597838Z",
     "iopub.status.idle": "2022-03-16T10:54:36.612186Z",
     "shell.execute_reply": "2022-03-16T10:54:36.611697Z",
     "shell.execute_reply.started": "2022-03-16T10:54:36.598094Z"
    },
    "tags": []
   },
   "outputs": [
    {
     "data": {
      "text/html": [
       "<div>\n",
       "<style scoped>\n",
       "    .dataframe tbody tr th:only-of-type {\n",
       "        vertical-align: middle;\n",
       "    }\n",
       "\n",
       "    .dataframe tbody tr th {\n",
       "        vertical-align: top;\n",
       "    }\n",
       "\n",
       "    .dataframe thead th {\n",
       "        text-align: right;\n",
       "    }\n",
       "</style>\n",
       "<table border=\"1\" class=\"dataframe\">\n",
       "  <thead>\n",
       "    <tr style=\"text-align: right;\">\n",
       "      <th></th>\n",
       "      <th>Text ID</th>\n",
       "      <th>Negative</th>\n",
       "      <th>Neutral</th>\n",
       "      <th>Positive</th>\n",
       "      <th>GPE</th>\n",
       "    </tr>\n",
       "  </thead>\n",
       "  <tbody>\n",
       "    <tr>\n",
       "      <th>0</th>\n",
       "      <td>8476</td>\n",
       "      <td>0.444</td>\n",
       "      <td>0.556</td>\n",
       "      <td>0.000</td>\n",
       "      <td>Tehran</td>\n",
       "    </tr>\n",
       "    <tr>\n",
       "      <th>1</th>\n",
       "      <td>10294</td>\n",
       "      <td>0.242</td>\n",
       "      <td>0.645</td>\n",
       "      <td>0.113</td>\n",
       "      <td>USA</td>\n",
       "    </tr>\n",
       "    <tr>\n",
       "      <th>2</th>\n",
       "      <td>10142</td>\n",
       "      <td>0.266</td>\n",
       "      <td>0.591</td>\n",
       "      <td>0.143</td>\n",
       "      <td>UK</td>\n",
       "    </tr>\n",
       "    <tr>\n",
       "      <th>3</th>\n",
       "      <td>6903</td>\n",
       "      <td>0.000</td>\n",
       "      <td>1.000</td>\n",
       "      <td>0.000</td>\n",
       "      <td>Russia</td>\n",
       "    </tr>\n",
       "    <tr>\n",
       "      <th>4</th>\n",
       "      <td>7341</td>\n",
       "      <td>0.226</td>\n",
       "      <td>0.774</td>\n",
       "      <td>0.000</td>\n",
       "      <td>Empire</td>\n",
       "    </tr>\n",
       "    <tr>\n",
       "      <th>...</th>\n",
       "      <td>...</td>\n",
       "      <td>...</td>\n",
       "      <td>...</td>\n",
       "      <td>...</td>\n",
       "      <td>...</td>\n",
       "    </tr>\n",
       "    <tr>\n",
       "      <th>805</th>\n",
       "      <td>9724</td>\n",
       "      <td>0.000</td>\n",
       "      <td>1.000</td>\n",
       "      <td>0.000</td>\n",
       "      <td>Turkey</td>\n",
       "    </tr>\n",
       "    <tr>\n",
       "      <th>806</th>\n",
       "      <td>6674</td>\n",
       "      <td>0.000</td>\n",
       "      <td>0.476</td>\n",
       "      <td>0.524</td>\n",
       "      <td>Oakland</td>\n",
       "    </tr>\n",
       "    <tr>\n",
       "      <th>807</th>\n",
       "      <td>10284</td>\n",
       "      <td>0.464</td>\n",
       "      <td>0.536</td>\n",
       "      <td>0.000</td>\n",
       "      <td>Vatican</td>\n",
       "    </tr>\n",
       "    <tr>\n",
       "      <th>808</th>\n",
       "      <td>5383</td>\n",
       "      <td>0.000</td>\n",
       "      <td>1.000</td>\n",
       "      <td>0.000</td>\n",
       "      <td>US</td>\n",
       "    </tr>\n",
       "    <tr>\n",
       "      <th>809</th>\n",
       "      <td>7622</td>\n",
       "      <td>0.000</td>\n",
       "      <td>1.000</td>\n",
       "      <td>0.000</td>\n",
       "      <td>Brazil</td>\n",
       "    </tr>\n",
       "  </tbody>\n",
       "</table>\n",
       "<p>810 rows × 5 columns</p>\n",
       "</div>"
      ],
      "text/plain": [
       "     Text ID  Negative  Neutral  Positive      GPE\n",
       "0       8476     0.444    0.556     0.000   Tehran\n",
       "1      10294     0.242    0.645     0.113      USA\n",
       "2      10142     0.266    0.591     0.143       UK\n",
       "3       6903     0.000    1.000     0.000   Russia\n",
       "4       7341     0.226    0.774     0.000   Empire\n",
       "..       ...       ...      ...       ...      ...\n",
       "805     9724     0.000    1.000     0.000   Turkey\n",
       "806     6674     0.000    0.476     0.524  Oakland\n",
       "807    10284     0.464    0.536     0.000  Vatican\n",
       "808     5383     0.000    1.000     0.000       US\n",
       "809     7622     0.000    1.000     0.000   Brazil\n",
       "\n",
       "[810 rows x 5 columns]"
      ]
     },
     "execution_count": 103,
     "metadata": {},
     "output_type": "execute_result"
    }
   ],
   "source": [
    "# Make list with text ID, sentiment score and GPE\n",
    "list_fake = list(zip(fake_news_df[\"Unnamed: 0\"], vader_df_fake[\"neg\"], vader_df_fake[\"neu\"], vader_df_fake[\"pos\"], fake_gpe))\n",
    "\n",
    "# Convert to dataframe\n",
    "data_fake = pd.DataFrame(list_fake, columns = [\"Text ID\", \"Negative\", \"Neutral\", \"Positive\", \"GPE\"]) \n",
    "\n",
    "# display new dataframe with fake news\n",
    "data_fake"
   ]
  },
  {
   "cell_type": "code",
   "execution_count": 104,
   "id": "f3561eb5-4c7d-4b5e-8fb8-a8258c0456ac",
   "metadata": {
    "execution": {
     "iopub.execute_input": "2022-03-16T10:54:36.612946Z",
     "iopub.status.busy": "2022-03-16T10:54:36.612800Z",
     "iopub.status.idle": "2022-03-16T10:54:36.892288Z",
     "shell.execute_reply": "2022-03-16T10:54:36.891229Z",
     "shell.execute_reply.started": "2022-03-16T10:54:36.612930Z"
    },
    "tags": []
   },
   "outputs": [],
   "source": [
    "# Convert to csv\n",
    "data_fake.to_csv(\"output_fake.csv\", encoding = \"utf-8\")"
   ]
  },
  {
   "cell_type": "markdown",
   "id": "e07795ca-c381-4573-8233-d0244dafc316",
   "metadata": {},
   "source": [
    "### Real news"
   ]
  },
  {
   "cell_type": "code",
   "execution_count": 105,
   "id": "0e1065ba-3a4b-4807-a5a7-7f997f921983",
   "metadata": {
    "execution": {
     "iopub.execute_input": "2022-03-16T10:54:36.894229Z",
     "iopub.status.busy": "2022-03-16T10:54:36.893925Z",
     "iopub.status.idle": "2022-03-16T10:54:37.111509Z",
     "shell.execute_reply": "2022-03-16T10:54:37.110879Z",
     "shell.execute_reply.started": "2022-03-16T10:54:36.894198Z"
    },
    "tags": []
   },
   "outputs": [
    {
     "data": {
      "text/html": [
       "<div>\n",
       "<style scoped>\n",
       "    .dataframe tbody tr th:only-of-type {\n",
       "        vertical-align: middle;\n",
       "    }\n",
       "\n",
       "    .dataframe tbody tr th {\n",
       "        vertical-align: top;\n",
       "    }\n",
       "\n",
       "    .dataframe thead th {\n",
       "        text-align: right;\n",
       "    }\n",
       "</style>\n",
       "<table border=\"1\" class=\"dataframe\">\n",
       "  <thead>\n",
       "    <tr style=\"text-align: right;\">\n",
       "      <th></th>\n",
       "      <th>Text ID</th>\n",
       "      <th>Negative</th>\n",
       "      <th>Neutral</th>\n",
       "      <th>Positive</th>\n",
       "      <th>GPE</th>\n",
       "    </tr>\n",
       "  </thead>\n",
       "  <tbody>\n",
       "    <tr>\n",
       "      <th>0</th>\n",
       "      <td>3608</td>\n",
       "      <td>0.000</td>\n",
       "      <td>0.762</td>\n",
       "      <td>0.238</td>\n",
       "      <td>Paris</td>\n",
       "    </tr>\n",
       "    <tr>\n",
       "      <th>1</th>\n",
       "      <td>875</td>\n",
       "      <td>0.243</td>\n",
       "      <td>0.654</td>\n",
       "      <td>0.103</td>\n",
       "      <td>New York</td>\n",
       "    </tr>\n",
       "    <tr>\n",
       "      <th>2</th>\n",
       "      <td>95</td>\n",
       "      <td>0.000</td>\n",
       "      <td>1.000</td>\n",
       "      <td>0.000</td>\n",
       "      <td>Iran</td>\n",
       "    </tr>\n",
       "    <tr>\n",
       "      <th>3</th>\n",
       "      <td>4869</td>\n",
       "      <td>0.000</td>\n",
       "      <td>1.000</td>\n",
       "      <td>0.000</td>\n",
       "      <td>Iowa</td>\n",
       "    </tr>\n",
       "    <tr>\n",
       "      <th>4</th>\n",
       "      <td>2909</td>\n",
       "      <td>0.000</td>\n",
       "      <td>1.000</td>\n",
       "      <td>0.000</td>\n",
       "      <td>Iran</td>\n",
       "    </tr>\n",
       "    <tr>\n",
       "      <th>...</th>\n",
       "      <td>...</td>\n",
       "      <td>...</td>\n",
       "      <td>...</td>\n",
       "      <td>...</td>\n",
       "      <td>...</td>\n",
       "    </tr>\n",
       "    <tr>\n",
       "      <th>1025</th>\n",
       "      <td>3440</td>\n",
       "      <td>0.234</td>\n",
       "      <td>0.541</td>\n",
       "      <td>0.225</td>\n",
       "      <td>Texas</td>\n",
       "    </tr>\n",
       "    <tr>\n",
       "      <th>1026</th>\n",
       "      <td>947</td>\n",
       "      <td>0.204</td>\n",
       "      <td>0.796</td>\n",
       "      <td>0.000</td>\n",
       "      <td>New Hampshire</td>\n",
       "    </tr>\n",
       "    <tr>\n",
       "      <th>1027</th>\n",
       "      <td>734</td>\n",
       "      <td>0.000</td>\n",
       "      <td>0.800</td>\n",
       "      <td>0.200</td>\n",
       "      <td>Ethiopia</td>\n",
       "    </tr>\n",
       "    <tr>\n",
       "      <th>1028</th>\n",
       "      <td>2514</td>\n",
       "      <td>0.211</td>\n",
       "      <td>0.789</td>\n",
       "      <td>0.000</td>\n",
       "      <td>Obama</td>\n",
       "    </tr>\n",
       "    <tr>\n",
       "      <th>1029</th>\n",
       "      <td>1577</td>\n",
       "      <td>0.000</td>\n",
       "      <td>0.545</td>\n",
       "      <td>0.455</td>\n",
       "      <td>East Africa</td>\n",
       "    </tr>\n",
       "  </tbody>\n",
       "</table>\n",
       "<p>1030 rows × 5 columns</p>\n",
       "</div>"
      ],
      "text/plain": [
       "      Text ID  Negative  Neutral  Positive            GPE\n",
       "0        3608     0.000    0.762     0.238          Paris\n",
       "1         875     0.243    0.654     0.103       New York\n",
       "2          95     0.000    1.000     0.000           Iran\n",
       "3        4869     0.000    1.000     0.000           Iowa\n",
       "4        2909     0.000    1.000     0.000           Iran\n",
       "...       ...       ...      ...       ...            ...\n",
       "1025     3440     0.234    0.541     0.225          Texas\n",
       "1026      947     0.204    0.796     0.000  New Hampshire\n",
       "1027      734     0.000    0.800     0.200       Ethiopia\n",
       "1028     2514     0.211    0.789     0.000          Obama\n",
       "1029     1577     0.000    0.545     0.455    East Africa\n",
       "\n",
       "[1030 rows x 5 columns]"
      ]
     },
     "execution_count": 105,
     "metadata": {},
     "output_type": "execute_result"
    }
   ],
   "source": [
    "# Make a list with text ID, sentiment score and GPE\n",
    "list_real = list(zip(real_news_df[\"Unnamed: 0\"], vader_df_real[\"neg\"], vader_df_real[\"neu\"], vader_df_real[\"pos\"], real_gpe))\n",
    "\n",
    "# Convert to dataframe\n",
    "data_real = pd.DataFrame(list_real, columns = [\"Text ID\", \"Negative\", \"Neutral\", \"Positive\", \"GPE\"]) \n",
    "\n",
    "# display new dataframe with real news\n",
    "data_real"
   ]
  },
  {
   "cell_type": "code",
   "execution_count": 106,
   "id": "2827a6b1-a841-4cfe-a641-4c664968ec75",
   "metadata": {
    "execution": {
     "iopub.execute_input": "2022-03-16T10:54:37.112484Z",
     "iopub.status.busy": "2022-03-16T10:54:37.112314Z",
     "iopub.status.idle": "2022-03-16T10:54:37.731459Z",
     "shell.execute_reply": "2022-03-16T10:54:37.730212Z",
     "shell.execute_reply.started": "2022-03-16T10:54:37.112466Z"
    },
    "tags": []
   },
   "outputs": [],
   "source": [
    "# convert to csv\n",
    "data_real.to_csv(\"output_real.csv\", encoding = \"utf-8\")"
   ]
  },
  {
   "cell_type": "markdown",
   "id": "c8a05fa6-ca2a-4fc1-8fbe-07ff5c91e6dd",
   "metadata": {},
   "source": [
    "## Task 3: Find the 20 most common geopolitical entities mentioned across each dataset and plot the results as a bar charts"
   ]
  },
  {
   "cell_type": "markdown",
   "id": "220e6383-179c-4afc-8db6-35ea90a6d805",
   "metadata": {
    "execution": {
     "iopub.execute_input": "2022-03-14T10:39:23.100091Z",
     "iopub.status.busy": "2022-03-14T10:39:23.099550Z",
     "iopub.status.idle": "2022-03-14T10:39:23.106972Z",
     "shell.execute_reply": "2022-03-14T10:39:23.105377Z",
     "shell.execute_reply.started": "2022-03-14T10:39:23.100040Z"
    }
   },
   "source": [
    "### Fake news"
   ]
  },
  {
   "cell_type": "code",
   "execution_count": 107,
   "id": "db4e5268-0acf-4d9e-b092-4ed719ad9294",
   "metadata": {
    "execution": {
     "iopub.execute_input": "2022-03-16T10:54:37.733907Z",
     "iopub.status.busy": "2022-03-16T10:54:37.733464Z",
     "iopub.status.idle": "2022-03-16T10:54:37.746750Z",
     "shell.execute_reply": "2022-03-16T10:54:37.745957Z",
     "shell.execute_reply.started": "2022-03-16T10:54:37.733862Z"
    },
    "tags": []
   },
   "outputs": [
    {
     "data": {
      "text/plain": [
       "GPE\n",
       "US              104\n",
       "Russia           93\n",
       "U.S.             39\n",
       "Syria            38\n",
       "America          36\n",
       "Israel           19\n",
       "Mosul            18\n",
       "China            15\n",
       "UK               12\n",
       "Obama            12\n",
       "Yemen            11\n",
       "Iran             10\n",
       "India            10\n",
       "Saudi Arabia     10\n",
       "Florida          10\n",
       "France            9\n",
       "Turkey            8\n",
       "Washington        8\n",
       "Iraq              8\n",
       "Italy             7\n",
       "dtype: int64"
      ]
     },
     "execution_count": 107,
     "metadata": {},
     "output_type": "execute_result"
    }
   ],
   "source": [
    "# count the frequency of each GPE in fake news\n",
    "fake_gpe_count = data_fake.value_counts('GPE')\n",
    "\n",
    "# take the 20 most common GPE\n",
    "fake_gpe_top20 = fake_gpe_count.nlargest(20)\n",
    "\n",
    "# display\n",
    "fake_gpe_top20"
   ]
  },
  {
   "cell_type": "markdown",
   "id": "59cf53fa-1aa6-4cbc-897d-b559470e76b3",
   "metadata": {},
   "source": [
    "As we can see it is a problem that there is both US and U.S. since they refere to the same country (United States). But since I'm short on time, I won't do anything further about it. "
   ]
  },
  {
   "cell_type": "code",
   "execution_count": 108,
   "id": "975c4b37-0a08-409b-8b06-57c98ef3a632",
   "metadata": {
    "execution": {
     "iopub.execute_input": "2022-03-16T10:54:37.747768Z",
     "iopub.status.busy": "2022-03-16T10:54:37.747591Z",
     "iopub.status.idle": "2022-03-16T10:54:37.948471Z",
     "shell.execute_reply": "2022-03-16T10:54:37.947443Z",
     "shell.execute_reply.started": "2022-03-16T10:54:37.747749Z"
    },
    "tags": []
   },
   "outputs": [
    {
     "data": {
      "text/plain": [
       "[('US', 104),\n",
       " ('Russia', 93),\n",
       " ('U.S.', 39),\n",
       " ('Syria', 38),\n",
       " ('America', 36),\n",
       " ('Israel', 19),\n",
       " ('Mosul', 18),\n",
       " ('China', 15),\n",
       " ('UK', 12),\n",
       " ('Obama', 12),\n",
       " ('Yemen', 11),\n",
       " ('Iran', 10),\n",
       " ('India', 10),\n",
       " ('Saudi Arabia', 10),\n",
       " ('Florida', 10),\n",
       " ('France', 9),\n",
       " ('Turkey', 8),\n",
       " ('Washington', 8),\n",
       " ('Iraq', 8),\n",
       " ('Italy', 7)]"
      ]
     },
     "execution_count": 108,
     "metadata": {},
     "output_type": "execute_result"
    }
   ],
   "source": [
    "# convert to list\n",
    "fake_top20 = fake_gpe_top20.tolist()\n",
    "\n",
    "#zip value and key\n",
    "fake_top20 = list(zip(fake_gpe_top20.index, fake_top20))\n",
    "\n",
    "# display\n",
    "fake_top20"
   ]
  },
  {
   "cell_type": "markdown",
   "id": "97839620-cac3-4725-b42d-9dcb2016bc5a",
   "metadata": {},
   "source": [
    "Apparently Jupyter is forgetful and I have to load ```numpy``` and ```matplotlib``` again. "
   ]
  },
  {
   "cell_type": "code",
   "execution_count": 109,
   "id": "0f69e2d2-7b4a-4731-9d94-30bae795e809",
   "metadata": {
    "execution": {
     "iopub.execute_input": "2022-03-16T10:54:37.952515Z",
     "iopub.status.busy": "2022-03-16T10:54:37.952075Z",
     "iopub.status.idle": "2022-03-16T10:54:38.097782Z",
     "shell.execute_reply": "2022-03-16T10:54:38.096623Z",
     "shell.execute_reply.started": "2022-03-16T10:54:37.952480Z"
    },
    "tags": []
   },
   "outputs": [],
   "source": [
    "import numpy as np\n",
    "import matplotlib.pyplot as plt"
   ]
  },
  {
   "cell_type": "markdown",
   "id": "c6bb334a-361e-4f46-8742-c0b48dc74421",
   "metadata": {},
   "source": [
    "Now I can move on and visualize the 20 most common GPE in a bar chart"
   ]
  },
  {
   "cell_type": "code",
   "execution_count": 110,
   "id": "9a1f7321-4823-4b38-be8f-d649314a6b85",
   "metadata": {
    "execution": {
     "iopub.execute_input": "2022-03-16T10:54:38.100131Z",
     "iopub.status.busy": "2022-03-16T10:54:38.099583Z",
     "iopub.status.idle": "2022-03-16T10:54:38.594595Z",
     "shell.execute_reply": "2022-03-16T10:54:38.594020Z",
     "shell.execute_reply.started": "2022-03-16T10:54:38.100085Z"
    },
    "scrolled": true,
    "tags": []
   },
   "outputs": [
    {
     "data": {
      "text/plain": [
       "<BarContainer object of 20 artists>"
      ]
     },
     "execution_count": 110,
     "metadata": {},
     "output_type": "execute_result"
    },
    {
     "data": {
      "image/png": "[encoded data removed]",
      "text/plain": [
       "<Figure size 432x288 with 1 Axes>"
      ]
     },
     "metadata": {
      "needs_background": "light"
     },
     "output_type": "display_data"
    }
   ],
   "source": [
    "# define pairs of x and y\n",
    "labels, y = zip(*fake_top20)\n",
    "x = np.arange(len(labels))\n",
    "\n",
    "# plot into bar chart\n",
    "plt.xticks(x, labels, rotation=75)\n",
    "plt.yticks(y)\n",
    "\n",
    "# add axes labels\n",
    "plt.xlabel(\"Geopolitical entities\")\n",
    "plt.ylabel(\"Frequency\")\n",
    "\n",
    "# add title\n",
    "plt.title(\"Top 20 geopolitical entities in fake news\")\n",
    "\n",
    "# I would like to change the y axis using the following code, but I can't get it to work\n",
    "plt.ylim(0,110)\n",
    "\n",
    "# plot as bar chart\n",
    "plt.bar(x, y, color = \"red\", width = 0.8)"
   ]
  },
  {
   "cell_type": "markdown",
   "id": "ea223a1e-1c02-4ebc-ae60-05f99148fda9",
   "metadata": {},
   "source": [
    "### Real news"
   ]
  },
  {
   "cell_type": "code",
   "execution_count": 111,
   "id": "4a3a77c7-0348-472b-96ce-4dd3c2371f2b",
   "metadata": {
    "execution": {
     "iopub.execute_input": "2022-03-16T10:54:38.595621Z",
     "iopub.status.busy": "2022-03-16T10:54:38.595472Z",
     "iopub.status.idle": "2022-03-16T10:54:38.723688Z",
     "shell.execute_reply": "2022-03-16T10:54:38.722688Z",
     "shell.execute_reply.started": "2022-03-16T10:54:38.595605Z"
    },
    "tags": []
   },
   "outputs": [
    {
     "data": {
      "text/plain": [
       "GPE\n",
       "Obama            129\n",
       "Iran              94\n",
       "US                60\n",
       "America           49\n",
       "U.S.              42\n",
       "Iowa              42\n",
       "Syria             29\n",
       "Russia            23\n",
       "Paris             22\n",
       "New Hampshire     20\n",
       "Iraq              18\n",
       "California        14\n",
       "Washington        13\n",
       "New York          13\n",
       "Nevada            13\n",
       "Israel            13\n",
       "Kasich            13\n",
       "Baltimore         12\n",
       "Cuba              12\n",
       "Charleston        11\n",
       "dtype: int64"
      ]
     },
     "execution_count": 111,
     "metadata": {},
     "output_type": "execute_result"
    }
   ],
   "source": [
    "# count the frequency of each GPE in real news\n",
    "real_gpe_count = data_real.value_counts('GPE')\n",
    "\n",
    "# take the 20 most common GPE\n",
    "real_gpe_top20 = real_gpe_count.nlargest(20)\n",
    "\n",
    "# display\n",
    "real_gpe_top20"
   ]
  },
  {
   "cell_type": "markdown",
   "id": "393c4445-e984-4a89-97ce-c8d5619ee2c1",
   "metadata": {},
   "source": [
    "As we can see it is a problem that there is both US and U.S. since they refere to the same country (United States). But since I'm short on time, I won't do anything further about it. "
   ]
  },
  {
   "cell_type": "code",
   "execution_count": 112,
   "id": "843b3485-98b5-43f5-bcaf-a58149b78007",
   "metadata": {
    "execution": {
     "iopub.execute_input": "2022-03-16T10:54:38.725498Z",
     "iopub.status.busy": "2022-03-16T10:54:38.725274Z",
     "iopub.status.idle": "2022-03-16T10:54:38.978785Z",
     "shell.execute_reply": "2022-03-16T10:54:38.977980Z",
     "shell.execute_reply.started": "2022-03-16T10:54:38.725475Z"
    },
    "tags": []
   },
   "outputs": [
    {
     "data": {
      "text/plain": [
       "[('Obama', 129),\n",
       " ('Iran', 94),\n",
       " ('US', 60),\n",
       " ('America', 49),\n",
       " ('U.S.', 42),\n",
       " ('Iowa', 42),\n",
       " ('Syria', 29),\n",
       " ('Russia', 23),\n",
       " ('Paris', 22),\n",
       " ('New Hampshire', 20),\n",
       " ('Iraq', 18),\n",
       " ('California', 14),\n",
       " ('Washington', 13),\n",
       " ('New York', 13),\n",
       " ('Nevada', 13),\n",
       " ('Israel', 13),\n",
       " ('Kasich', 13),\n",
       " ('Baltimore', 12),\n",
       " ('Cuba', 12),\n",
       " ('Charleston', 11)]"
      ]
     },
     "execution_count": 112,
     "metadata": {},
     "output_type": "execute_result"
    }
   ],
   "source": [
    "# convert to list\n",
    "real_top20 = real_gpe_top20.tolist()\n",
    "\n",
    "# zip value and key\n",
    "real_top20 = list(zip(real_gpe_top20.index, real_top20))\n",
    "\n",
    "# display\n",
    "real_top20"
   ]
  },
  {
   "cell_type": "code",
   "execution_count": 113,
   "id": "ad4978a3-d998-482f-88e0-b1578b2773dc",
   "metadata": {
    "execution": {
     "iopub.execute_input": "2022-03-16T10:54:38.980451Z",
     "iopub.status.busy": "2022-03-16T10:54:38.980169Z",
     "iopub.status.idle": "2022-03-16T10:54:39.547899Z",
     "shell.execute_reply": "2022-03-16T10:54:39.547315Z",
     "shell.execute_reply.started": "2022-03-16T10:54:38.980420Z"
    },
    "tags": []
   },
   "outputs": [
    {
     "data": {
      "text/plain": [
       "<BarContainer object of 20 artists>"
      ]
     },
     "execution_count": 113,
     "metadata": {},
     "output_type": "execute_result"
    },
    {
     "data": {
      "image/png": "[encoded data removed]",
      "text/plain": [
       "<Figure size 432x288 with 1 Axes>"
      ]
     },
     "metadata": {
      "needs_background": "light"
     },
     "output_type": "display_data"
    }
   ],
   "source": [
    "# Define pairs of x and y\n",
    "labels, y = zip(*real_top20)\n",
    "x = np.arange(len(labels))\n",
    "\n",
    "# Plot into bar chart\n",
    "plt.xticks(x, labels, rotation=75)\n",
    "plt.yticks(y)\n",
    "\n",
    "# add axes labels\n",
    "plt.xlabel(\"Geopolitical entities\")\n",
    "plt.ylabel(\"Frequency\")\n",
    "\n",
    "# add title\n",
    "plt.title(\"Top 20 geopolitical entities in real news\")\n",
    "\n",
    "# I would like to change the y axis using the following code, but I can't get it to work\n",
    "plt.ylim(0,130)\n",
    "\n",
    "# plot as bar chart\n",
    "plt.bar(x, y, color = \"red\", width = 0.8)"
   ]
  }
 ],
 "metadata": {
  "kernelspec": {
   "display_name": "Python 3 ",
   "language": "python",
   "name": "python3"
  },
  "language_info": {
   "codemirror_mode": {
    "name": "ipython",
    "version": 3
   },
   "file_extension": ".py",
   "mimetype": "text/x-python",
   "name": "python",
   "nbconvert_exporter": "python",
   "pygments_lexer": "ipython3",
   "version": "3.9.6"
  }
 },
 "nbformat": 4,
 "nbformat_minor": 5
}
