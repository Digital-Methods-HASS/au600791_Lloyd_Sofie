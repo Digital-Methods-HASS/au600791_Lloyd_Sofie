{
 "cells": [
  {
   "cell_type": "markdown",
   "id": "c8493bb2-72bd-4ad1-9f64-1956eb936882",
   "metadata": {},
   "source": [
    "# Assignment 1 - Collocation Tool \n",
    "For this assignment, you will write a small Python program to perform collocational analysis using the string processing and NLP tools you've already encountered. Your script should do the following:\n",
    "\n",
    "- Take a user-defined search term and a user-defined window size.\n",
    "- Take one specific text which the user can define.\n",
    "- Find all the context words which appear ± the window size from the search term in that text.\n",
    "- Calculate the mutual information score for each context word.\n",
    "- Save the results as a CSV file with (at least) the following columns: the collocate term; how often it appears as a collocate; how often it appears in the text; the mutual information score. \n",
    "\n",
    "First thing we need to do is install ```spaCy``` and the language model that we want to use."
   ]
  },
  {
   "cell_type": "markdown",
   "id": "4fc8f26f-45f2-49a8-ae4f-6d787f3d9711",
   "metadata": {},
   "source": [
    "```\n",
    "$ pip install spacy \n",
    "$ python -m spacy download en_core_web_sm\n",
    "```"
   ]
  },
  {
   "cell_type": "code",
   "execution_count": 109,
   "id": "c32300d2-3c48-449a-a9e0-c820718db216",
   "metadata": {
    "execution": {
     "iopub.execute_input": "2022-03-02T09:51:46.163077Z",
     "iopub.status.busy": "2022-03-02T09:51:46.162527Z",
     "iopub.status.idle": "2022-03-02T09:51:46.608905Z",
     "shell.execute_reply": "2022-03-02T09:51:46.608206Z",
     "shell.execute_reply.started": "2022-03-02T09:51:46.163030Z"
    },
    "tags": []
   },
   "outputs": [],
   "source": [
    "# Load spaCy\n",
    "import spacy\n",
    "nlp = spacy.load(\"en_core_web_sm\")"
   ]
  },
  {
   "cell_type": "code",
   "execution_count": 110,
   "id": "00acc8b3-6f5f-4863-bfc8-82d4932041a6",
   "metadata": {
    "execution": {
     "iopub.execute_input": "2022-03-02T09:51:46.610210Z",
     "iopub.status.busy": "2022-03-02T09:51:46.610063Z",
     "iopub.status.idle": "2022-03-02T09:51:46.615208Z",
     "shell.execute_reply": "2022-03-02T09:51:46.614563Z",
     "shell.execute_reply.started": "2022-03-02T09:51:46.610194Z"
    },
    "tags": []
   },
   "outputs": [],
   "source": [
    "# Load one text (novel) from the data folder\n",
    "import os\n",
    "filepath = os.path.join(\"..\",\n",
    "                        \"CDS-LANG\",\n",
    "                        \"100_english_novels\",\n",
    "                        \"corpus\",\n",
    "                        \"Bennet_Helen_1910.txt\")\n",
    "\n",
    "with open(filepath, \"r\") as f:\n",
    "    text = f.read()"
   ]
  },
  {
   "cell_type": "code",
   "execution_count": 111,
   "id": "0cc3b11f-78d7-477c-abba-b6a5676d3633",
   "metadata": {
    "execution": {
     "iopub.execute_input": "2022-03-02T09:51:46.616041Z",
     "iopub.status.busy": "2022-03-02T09:51:46.615904Z",
     "iopub.status.idle": "2022-03-02T09:52:01.238977Z",
     "shell.execute_reply": "2022-03-02T09:52:01.237990Z",
     "shell.execute_reply.started": "2022-03-02T09:51:46.616026Z"
    },
    "tags": []
   },
   "outputs": [],
   "source": [
    "# Create spaCy pipeline\n",
    "spacy_doc = nlp(text)\n",
    "\n",
    "# Create word list\n",
    "word_list = []\n",
    "\n",
    "# Find word to word list\n",
    "for token in spacy_doc:\n",
    "    if not token.is_punct and not token.is_space:\n",
    "        word_list.append(token)\n",
    "    else:\n",
    "        pass"
   ]
  },
  {
   "cell_type": "code",
   "execution_count": 112,
   "id": "66a57aa0-cc5c-49e1-a34e-94bcfc36473b",
   "metadata": {
    "execution": {
     "iopub.execute_input": "2022-03-02T09:52:01.239883Z",
     "iopub.status.busy": "2022-03-02T09:52:01.239739Z",
     "iopub.status.idle": "2022-03-02T09:52:01.270707Z",
     "shell.execute_reply": "2022-03-02T09:52:01.270162Z",
     "shell.execute_reply.started": "2022-03-02T09:52:01.239868Z"
    },
    "tags": []
   },
   "outputs": [],
   "source": [
    "# Convert list to string\n",
    "str_tokens = ' '.join(str(e) for e in word_list)"
   ]
  },
  {
   "cell_type": "code",
   "execution_count": 113,
   "id": "31248dcc-99a6-421a-b1a3-a39f002533fd",
   "metadata": {
    "execution": {
     "iopub.execute_input": "2022-03-02T09:52:01.272189Z",
     "iopub.status.busy": "2022-03-02T09:52:01.272052Z",
     "iopub.status.idle": "2022-03-02T09:52:11.050442Z",
     "shell.execute_reply": "2022-03-02T09:52:11.049380Z",
     "shell.execute_reply.started": "2022-03-02T09:52:01.272175Z"
    },
    "tags": []
   },
   "outputs": [],
   "source": [
    "word_list_nlp = nlp(str_tokens)"
   ]
  },
  {
   "cell_type": "code",
   "execution_count": 114,
   "id": "0def973e-ca70-43ea-93c8-8dabcd02362b",
   "metadata": {
    "execution": {
     "iopub.execute_input": "2022-03-02T09:52:11.051402Z",
     "iopub.status.busy": "2022-03-02T09:52:11.051227Z",
     "iopub.status.idle": "2022-03-02T09:52:11.076261Z",
     "shell.execute_reply": "2022-03-02T09:52:11.075760Z",
     "shell.execute_reply.started": "2022-03-02T09:52:11.051383Z"
    },
    "tags": []
   },
   "outputs": [
    {
     "name": "stdout",
     "output_type": "stream",
     "text": [
      "The novel has 3 of the chosen keyword\n"
     ]
    }
   ],
   "source": [
    "# Define search term\n",
    "key = \"dog\"\n",
    "\n",
    "# Define counter\n",
    "counter = 0\n",
    "\n",
    "# Make a for loop\n",
    "for token in word_list_nlp:\n",
    "    if token.text == key:\n",
    "        counter = counter + 1 # for every 'key' go 1 counter up.\n",
    "    else:\n",
    "        pass\n",
    "    \n",
    "# Print\n",
    "print(f\"The novel has {counter} of the chosen keyword\")"
   ]
  },
  {
   "cell_type": "code",
   "execution_count": 115,
   "id": "1754591c-8592-49d7-af26-879919a2da75",
   "metadata": {
    "execution": {
     "iopub.execute_input": "2022-03-02T09:52:11.076972Z",
     "iopub.status.busy": "2022-03-02T09:52:11.076846Z",
     "iopub.status.idle": "2022-03-02T09:52:11.167994Z",
     "shell.execute_reply": "2022-03-02T09:52:11.167515Z",
     "shell.execute_reply.started": "2022-03-02T09:52:11.076958Z"
    },
    "tags": []
   },
   "outputs": [
    {
     "name": "stdout",
     "output_type": "stream",
     "text": [
      "17007 dog\n",
      "46077 dog\n",
      "46088 dog\n"
     ]
    }
   ],
   "source": [
    "# Print indexnumber and keyword\n",
    "for token in word_list_nlp:\n",
    "    if token.text == key:\n",
    "        print(token.i, token.text)\n",
    "    else:\n",
    "        pass"
   ]
  },
  {
   "cell_type": "code",
   "execution_count": 116,
   "id": "16095e7c-3935-43e9-b060-844225555d6d",
   "metadata": {
    "execution": {
     "iopub.execute_input": "2022-03-02T09:52:11.168745Z",
     "iopub.status.busy": "2022-03-02T09:52:11.168611Z",
     "iopub.status.idle": "2022-03-02T09:52:11.260060Z",
     "shell.execute_reply": "2022-03-02T09:52:11.259554Z",
     "shell.execute_reply.started": "2022-03-02T09:52:11.168730Z"
    },
    "tags": []
   },
   "outputs": [
    {
     "name": "stdout",
     "output_type": "stream",
     "text": [
      "has rendered superfluous For a dog cart stopped in front of\n",
      "they chose But what a dog he might have been had\n",
      "he cared to be a dog Here he was without the\n"
     ]
    }
   ],
   "source": [
    "# Find context words of search term\n",
    "for token in word_list_nlp:\n",
    "    if token.text == key:\n",
    "        before = token.i -5\n",
    "        after = token.i +6\n",
    "        span = word_list_nlp[before:after]\n",
    "        print(span)\n",
    "    else:\n",
    "        pass"
   ]
  },
  {
   "cell_type": "code",
   "execution_count": 117,
   "id": "1598819e-ff13-4f58-bbcd-45b687ed077f",
   "metadata": {
    "execution": {
     "iopub.execute_input": "2022-03-02T09:52:11.260840Z",
     "iopub.status.busy": "2022-03-02T09:52:11.260698Z",
     "iopub.status.idle": "2022-03-02T09:52:11.348982Z",
     "shell.execute_reply": "2022-03-02T09:52:11.348390Z",
     "shell.execute_reply.started": "2022-03-02T09:52:11.260825Z"
    },
    "tags": []
   },
   "outputs": [
    {
     "name": "stdout",
     "output_type": "stream",
     "text": [
      "[has, rendered, superfluous, For, a, cart, stopped, in, front, of, they, chose, But, what, a, he, might, have, been, had, he, cared, to, be, a, Here, he, was, without, the]\n"
     ]
    }
   ],
   "source": [
    "# create empty list\n",
    "colloc = []\n",
    "\n",
    "# Find context words of search term\n",
    "for token in word_list_nlp:\n",
    "    if token.text == key:\n",
    "        before = token.i -5\n",
    "        after = token.i +6\n",
    "        token_index = token.i\n",
    "        span = word_list_nlp[before:after]\n",
    "        span_before = word_list_nlp[before:token_index]\n",
    "        span_after = word_list_nlp[token_index+1:after]\n",
    "        for words in span_before:\n",
    "            if not words.is_punct and not words.is_space:\n",
    "                colloc.append(words)\n",
    "        for words in span_after:\n",
    "            if not words.is_punct and not words.is_space:\n",
    "                colloc.append(words)\n",
    "    else:\n",
    "        pass\n",
    "    \n",
    "print(colloc)"
   ]
  },
  {
   "cell_type": "markdown",
   "id": "e672daa1-586a-4bfa-9563-552392924da6",
   "metadata": {
    "execution": {
     "iopub.execute_input": "2022-02-25T11:39:13.022336Z",
     "iopub.status.busy": "2022-02-25T11:39:13.021815Z",
     "iopub.status.idle": "2022-02-25T11:39:13.029992Z",
     "shell.execute_reply": "2022-02-25T11:39:13.028902Z",
     "shell.execute_reply.started": "2022-02-25T11:39:13.022287Z"
    },
    "tags": []
   },
   "source": [
    "## Calculate mutal information score \n",
    "For this part of the assignment I have used the formula outlined on the website for the British National Corpus (https://www.english-corpora.org/mutualInformation.asp)\n",
    "\n",
    "MI = log ( (AB * sizeCorpus) / (A * B * span) ) / log (2)\n",
    "\n",
    "- A = frequency of node word \n",
    "- B = frequency of collocate \n",
    "- AB = frequency of collocate near the node word \n",
    "- sizeCorpus= size of corpus \n",
    "- span = span of words   \n",
    "- log (2) is literally the log10 of the number 2: .30103  "
   ]
  },
  {
   "cell_type": "code",
   "execution_count": 118,
   "id": "5e0b2a6c-5383-4ea8-b92c-f148b5b14f1d",
   "metadata": {
    "execution": {
     "iopub.execute_input": "2022-03-02T09:52:11.349785Z",
     "iopub.status.busy": "2022-03-02T09:52:11.349648Z",
     "iopub.status.idle": "2022-03-02T09:52:11.473208Z",
     "shell.execute_reply": "2022-03-02T09:52:11.472535Z",
     "shell.execute_reply.started": "2022-03-02T09:52:11.349771Z"
    },
    "tags": []
   },
   "outputs": [
    {
     "data": {
      "text/plain": [
       "<function math.log>"
      ]
     },
     "execution_count": 118,
     "metadata": {},
     "output_type": "execute_result"
    }
   ],
   "source": [
    "# load math\n",
    "import math\n",
    "math.log"
   ]
  },
  {
   "cell_type": "code",
   "execution_count": 119,
   "id": "7b78ea37-0c7a-437d-b601-f9a2bc2f243c",
   "metadata": {
    "execution": {
     "iopub.execute_input": "2022-03-02T09:52:11.474631Z",
     "iopub.status.busy": "2022-03-02T09:52:11.474268Z",
     "iopub.status.idle": "2022-03-02T09:52:11.679212Z",
     "shell.execute_reply": "2022-03-02T09:52:11.678117Z",
     "shell.execute_reply.started": "2022-03-02T09:52:11.474604Z"
    },
    "tags": []
   },
   "outputs": [
    {
     "name": "stdout",
     "output_type": "stream",
     "text": [
      "Total words in text: 52644\n"
     ]
    }
   ],
   "source": [
    "# Total amount of words in text\n",
    "sizeCorpus = text.split()\n",
    "\n",
    "print('Total words in text:', len(sizeCorpus))"
   ]
  },
  {
   "cell_type": "code",
   "execution_count": 120,
   "id": "43727a24-32ee-4ea2-be46-dcaa17c6593f",
   "metadata": {
    "execution": {
     "iopub.execute_input": "2022-03-02T09:52:11.680819Z",
     "iopub.status.busy": "2022-03-02T09:52:11.680439Z",
     "iopub.status.idle": "2022-03-02T09:52:11.834385Z",
     "shell.execute_reply": "2022-03-02T09:52:11.833807Z",
     "shell.execute_reply.started": "2022-03-02T09:52:11.680781Z"
    },
    "tags": []
   },
   "outputs": [
    {
     "name": "stdout",
     "output_type": "stream",
     "text": [
      "3\n"
     ]
    }
   ],
   "source": [
    "# Frequency of node word (A variable)\n",
    "A = 0\n",
    "\n",
    "for token in word_list_nlp:\n",
    "    if token.text == key:\n",
    "        A = A + 1\n",
    "    else:\n",
    "        pass\n",
    "    \n",
    "# Print\n",
    "print(A)"
   ]
  },
  {
   "cell_type": "code",
   "execution_count": 121,
   "id": "3b018cc1-b874-4cb3-83f4-a996b4fedefb",
   "metadata": {
    "execution": {
     "iopub.execute_input": "2022-03-02T09:52:11.835083Z",
     "iopub.status.busy": "2022-03-02T09:52:11.834956Z",
     "iopub.status.idle": "2022-03-02T09:52:11.843341Z",
     "shell.execute_reply": "2022-03-02T09:52:11.842844Z",
     "shell.execute_reply.started": "2022-03-02T09:52:11.835069Z"
    }
   },
   "outputs": [
    {
     "data": {
      "text/plain": [
       "str"
      ]
     },
     "execution_count": 121,
     "metadata": {},
     "output_type": "execute_result"
    }
   ],
   "source": [
    "# Converte\n",
    "type(str_tokens)"
   ]
  },
  {
   "cell_type": "code",
   "execution_count": 122,
   "id": "9f7696d2-3512-4038-8e10-830e4d4b0625",
   "metadata": {
    "execution": {
     "iopub.execute_input": "2022-03-02T09:52:11.846381Z",
     "iopub.status.busy": "2022-03-02T09:52:11.846251Z",
     "iopub.status.idle": "2022-03-02T09:52:12.476007Z",
     "shell.execute_reply": "2022-03-02T09:52:12.475415Z",
     "shell.execute_reply.started": "2022-03-02T09:52:11.846367Z"
    },
    "tags": []
   },
   "outputs": [
    {
     "name": "stdout",
     "output_type": "stream",
     "text": [
      "[33, 4, 1, 17, 1296, 1, 9, 824, 44, 1402, 120, 6, 172, 122, 1296, 866, 65, 213, 172, 662, 866, 2, 1322, 261, 1296, 7, 866, 911, 48]\n"
     ]
    }
   ],
   "source": [
    "# Frequency of collocate (B variable)\n",
    "B = []\n",
    "\n",
    "for i in range(0, len(colloc)-1):\n",
    "    B_word = str(colloc[i])\n",
    "    counter_B = 0\n",
    "    for token in spacy_doc:\n",
    "        if token.text == B_word:\n",
    "            counter_B += 1\n",
    "    B.append(counter_B)\n",
    "\n",
    "print(B)"
   ]
  },
  {
   "cell_type": "code",
   "execution_count": 123,
   "id": "c86dc71b-bdef-4bbe-9b6e-8b93e17cbc59",
   "metadata": {
    "execution": {
     "iopub.execute_input": "2022-03-02T09:52:12.476763Z",
     "iopub.status.busy": "2022-03-02T09:52:12.476633Z",
     "iopub.status.idle": "2022-03-02T09:52:12.481928Z",
     "shell.execute_reply": "2022-03-02T09:52:12.481450Z",
     "shell.execute_reply.started": "2022-03-02T09:52:12.476749Z"
    },
    "tags": []
   },
   "outputs": [
    {
     "name": "stdout",
     "output_type": "stream",
     "text": [
      "[1, 1, 1, 1, 3, 1, 1, 1, 1, 1, 1, 1, 1, 1, 3, 3, 1, 1, 1, 1, 3, 1, 1, 1, 3, 1, 3, 1, 1]\n"
     ]
    }
   ],
   "source": [
    "# Frequency of collocate near the node word (AB variable)\n",
    "AB = []\n",
    "\n",
    "for i in range(0, len(colloc)-1):\n",
    "    B_word = str(colloc[i])\n",
    "    counter_AB = 0\n",
    "    for token in colloc:\n",
    "        if token.text == B_word:\n",
    "            counter_AB += 1\n",
    "    AB.append(counter_AB)\n",
    "\n",
    "print(AB)"
   ]
  },
  {
   "cell_type": "code",
   "execution_count": 124,
   "id": "00578be9-c130-4375-a67a-e59d9e30458c",
   "metadata": {
    "execution": {
     "iopub.execute_input": "2022-03-02T09:52:12.482631Z",
     "iopub.status.busy": "2022-03-02T09:52:12.482508Z",
     "iopub.status.idle": "2022-03-02T09:52:12.746535Z",
     "shell.execute_reply": "2022-03-02T09:52:12.745661Z",
     "shell.execute_reply.started": "2022-03-02T09:52:12.482616Z"
    },
    "tags": []
   },
   "outputs": [
    {
     "ename": "TypeError",
     "evalue": "unsupported operand type(s) for /: 'list' and 'int'",
     "output_type": "error",
     "traceback": [
      "\u001b[0;31m---------------------------------------------------------------------------\u001b[0m",
      "\u001b[0;31mTypeError\u001b[0m                                 Traceback (most recent call last)",
      "\u001b[0;32m/tmp/ipykernel_114/202731323.py\u001b[0m in \u001b[0;36m<module>\u001b[0;34m\u001b[0m\n\u001b[1;32m      7\u001b[0m \u001b[0;34m\u001b[0m\u001b[0m\n\u001b[1;32m      8\u001b[0m \u001b[0;32mfor\u001b[0m \u001b[0mi\u001b[0m \u001b[0;32min\u001b[0m \u001b[0mrange\u001b[0m\u001b[0;34m(\u001b[0m\u001b[0;36m0\u001b[0m\u001b[0;34m,\u001b[0m \u001b[0mlen\u001b[0m\u001b[0;34m(\u001b[0m\u001b[0mcolloc\u001b[0m\u001b[0;34m)\u001b[0m \u001b[0;34m-\u001b[0m\u001b[0;36m1\u001b[0m\u001b[0;34m)\u001b[0m\u001b[0;34m:\u001b[0m\u001b[0;34m\u001b[0m\u001b[0;34m\u001b[0m\u001b[0m\n\u001b[0;32m----> 9\u001b[0;31m     \u001b[0mMI_calc\u001b[0m \u001b[0;34m=\u001b[0m \u001b[0mmath\u001b[0m\u001b[0;34m.\u001b[0m\u001b[0mlog\u001b[0m\u001b[0;34m(\u001b[0m\u001b[0;34m(\u001b[0m\u001b[0mAB\u001b[0m\u001b[0;34m[\u001b[0m\u001b[0mi\u001b[0m\u001b[0;34m]\u001b[0m \u001b[0;34m*\u001b[0m \u001b[0msizeCorpus\u001b[0m\u001b[0;34m)\u001b[0m \u001b[0;34m/\u001b[0m \u001b[0;34m(\u001b[0m\u001b[0mA\u001b[0m\u001b[0;34m*\u001b[0m\u001b[0mB\u001b[0m\u001b[0;34m[\u001b[0m\u001b[0mi\u001b[0m\u001b[0;34m]\u001b[0m\u001b[0;34m*\u001b[0m\u001b[0mspan\u001b[0m\u001b[0;34m)\u001b[0m\u001b[0;34m)\u001b[0m \u001b[0;34m/\u001b[0m \u001b[0mmath\u001b[0m\u001b[0;34m.\u001b[0m\u001b[0mlog\u001b[0m\u001b[0;34m(\u001b[0m\u001b[0;36m2\u001b[0m\u001b[0;34m)\u001b[0m\u001b[0;34m\u001b[0m\u001b[0;34m\u001b[0m\u001b[0m\n\u001b[0m\u001b[1;32m     10\u001b[0m     \u001b[0mMI\u001b[0m\u001b[0;34m.\u001b[0m\u001b[0mappend\u001b[0m\u001b[0;34m(\u001b[0m\u001b[0mMI_calc\u001b[0m\u001b[0;34m)\u001b[0m\u001b[0;34m\u001b[0m\u001b[0;34m\u001b[0m\u001b[0m\n\u001b[1;32m     11\u001b[0m \u001b[0;34m\u001b[0m\u001b[0m\n",
      "\u001b[0;31mTypeError\u001b[0m: unsupported operand type(s) for /: 'list' and 'int'"
     ]
    }
   ],
   "source": [
    "# Calculate MI score\n",
    "# create empty list\n",
    "MI= []\n",
    "\n",
    "# Define span\n",
    "span = 10\n",
    "\n",
    "for i in range(0, len(colloc) -1):\n",
    "    MI_calc = math.log((AB[i] * sizeCorpus) / (A*B[i]*span)) / math.log(2)\n",
    "    MI.append(MI_calc)\n",
    "    \n",
    "# This should work, but doesn't :(\n"
   ]
  },
  {
   "cell_type": "code",
   "execution_count": 125,
   "id": "6d18fa34-fd54-484d-ac5f-225a609ab98e",
   "metadata": {
    "execution": {
     "iopub.execute_input": "2022-03-02T09:52:19.300018Z",
     "iopub.status.busy": "2022-03-02T09:52:19.299524Z",
     "iopub.status.idle": "2022-03-02T09:52:19.316555Z",
     "shell.execute_reply": "2022-03-02T09:52:19.315865Z",
     "shell.execute_reply.started": "2022-03-02T09:52:19.299969Z"
    },
    "tags": []
   },
   "outputs": [
    {
     "ename": "TypeError",
     "evalue": "unsupported operand type(s) for /: 'list' and 'int'",
     "output_type": "error",
     "traceback": [
      "\u001b[0;31m---------------------------------------------------------------------------\u001b[0m",
      "\u001b[0;31mTypeError\u001b[0m                                 Traceback (most recent call last)",
      "\u001b[0;32m/tmp/ipykernel_114/412494766.py\u001b[0m in \u001b[0;36m<module>\u001b[0;34m\u001b[0m\n\u001b[1;32m      1\u001b[0m \u001b[0;31m# Also not working :(\u001b[0m\u001b[0;34m\u001b[0m\u001b[0;34m\u001b[0m\u001b[0;34m\u001b[0m\u001b[0m\n\u001b[0;32m----> 2\u001b[0;31m \u001b[0mMI\u001b[0m \u001b[0;34m=\u001b[0m \u001b[0mmath\u001b[0m\u001b[0;34m.\u001b[0m\u001b[0mlog\u001b[0m \u001b[0;34m(\u001b[0m\u001b[0;34m(\u001b[0m\u001b[0mAB\u001b[0m\u001b[0;34m[\u001b[0m\u001b[0mi\u001b[0m\u001b[0;34m]\u001b[0m \u001b[0;34m*\u001b[0m \u001b[0msizeCorpus\u001b[0m\u001b[0;34m)\u001b[0m \u001b[0;34m/\u001b[0m \u001b[0;34m(\u001b[0m\u001b[0mA\u001b[0m \u001b[0;34m*\u001b[0m \u001b[0mB\u001b[0m\u001b[0;34m[\u001b[0m\u001b[0mi\u001b[0m\u001b[0;34m]\u001b[0m \u001b[0;34m*\u001b[0m \u001b[0;36m10\u001b[0m\u001b[0;34m)\u001b[0m\u001b[0;34m)\u001b[0m \u001b[0;34m/\u001b[0m \u001b[0mmath\u001b[0m\u001b[0;34m.\u001b[0m\u001b[0mlog\u001b[0m \u001b[0;34m(\u001b[0m\u001b[0;36m2\u001b[0m\u001b[0;34m)\u001b[0m\u001b[0;34m\u001b[0m\u001b[0;34m\u001b[0m\u001b[0m\n\u001b[0m",
      "\u001b[0;31mTypeError\u001b[0m: unsupported operand type(s) for /: 'list' and 'int'"
     ]
    }
   ],
   "source": [
    "# Also not working :( \n",
    "MI = math.log ((AB[i] * sizeCorpus) / (A * B[i] * 10)) / math.log (2)"
   ]
  },
  {
   "cell_type": "markdown",
   "id": "131332a1-5963-4cf3-84f7-5b0d8a33dcf8",
   "metadata": {},
   "source": [
    "## Create CSV file"
   ]
  },
  {
   "cell_type": "code",
   "execution_count": 126,
   "id": "4eafd83e-3eb4-4a39-bba1-994fa171e36c",
   "metadata": {
    "execution": {
     "iopub.execute_input": "2022-03-02T09:52:22.226616Z",
     "iopub.status.busy": "2022-03-02T09:52:22.226132Z",
     "iopub.status.idle": "2022-03-02T09:52:22.232238Z",
     "shell.execute_reply": "2022-03-02T09:52:22.231208Z",
     "shell.execute_reply.started": "2022-03-02T09:52:22.226567Z"
    },
    "tags": []
   },
   "outputs": [],
   "source": [
    "# import package\n",
    "import pandas as pd"
   ]
  },
  {
   "cell_type": "code",
   "execution_count": 127,
   "id": "d546cb71-581b-48c3-8999-b7667233aac7",
   "metadata": {
    "execution": {
     "iopub.execute_input": "2022-03-02T09:52:23.453477Z",
     "iopub.status.busy": "2022-03-02T09:52:23.453008Z",
     "iopub.status.idle": "2022-03-02T09:52:23.465690Z",
     "shell.execute_reply": "2022-03-02T09:52:23.464706Z",
     "shell.execute_reply.started": "2022-03-02T09:52:23.453431Z"
    },
    "tags": []
   },
   "outputs": [
    {
     "name": "stdout",
     "output_type": "stream",
     "text": [
      "Empty DataFrame\n",
      "Columns: [colloc, B, AB, MI]\n",
      "Index: []\n"
     ]
    }
   ],
   "source": [
    "# Make list\n",
    "list_context = list(zip(colloc, B, AB, MI))\n",
    "\n",
    "# Create dataframe\n",
    "data = pd.DataFrame(list_context, columns = [\"colloc\", \"B\", \"AB\", \"MI\"]) # Also not working :(\n",
    "\n",
    "# print data\n",
    "print(data)"
   ]
  },
  {
   "cell_type": "code",
   "execution_count": 129,
   "id": "5400790a-1e47-4d72-9f88-0ca284ed04f8",
   "metadata": {
    "execution": {
     "iopub.execute_input": "2022-03-02T09:53:35.910828Z",
     "iopub.status.busy": "2022-03-02T09:53:35.910331Z",
     "iopub.status.idle": "2022-03-02T09:53:35.918086Z",
     "shell.execute_reply": "2022-03-02T09:53:35.916923Z",
     "shell.execute_reply.started": "2022-03-02T09:53:35.910766Z"
    },
    "tags": []
   },
   "outputs": [],
   "source": [
    "# Converte to csv\n",
    "data.to_csv(\"Output_Assignment1.csv\", encoding = \"utf-8\") # However it a really boring csv file ;) "
   ]
  }
 ],
 "metadata": {
  "kernelspec": {
   "display_name": "Python 3 ",
   "language": "python",
   "name": "python3"
  },
  "language_info": {
   "codemirror_mode": {
    "name": "ipython",
    "version": 3
   },
   "file_extension": ".py",
   "mimetype": "text/x-python",
   "name": "python",
   "nbconvert_exporter": "python",
   "pygments_lexer": "ipython3",
   "version": "3.9.6"
  }
 },
 "nbformat": 4,
 "nbformat_minor": 5
}
