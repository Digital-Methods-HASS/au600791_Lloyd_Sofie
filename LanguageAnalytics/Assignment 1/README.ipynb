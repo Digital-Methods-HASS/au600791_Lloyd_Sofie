{
 "cells": [
  {
   "cell_type": "markdown",
   "id": "846e7451-12df-4f60-88dd-57bf75c3513c",
   "metadata": {},
   "source": [
    "# Assignment 1 - Language Analytics\n",
    "\n",
    "This is my first assignment in the portfolio assignment in Language Analytics, enjoy! \n",
    "\n",
    "The tasks in the assignment is: \n",
    "- Take a user-defined search term and a user-defined window size.\n",
    "- Take one specific text which the user can define.\n",
    "- Find all the context words which appear ± the window size from the search term in that text.\n",
    "- Calculate the mutual information score for each context word.\n",
    "- Save the results as a CSV file with (at least) the following columns: the collocate term; how often it appears as a collocate; how often it appears in the text; the mutual information score."
   ]
  },
  {
   "cell_type": "code",
   "execution_count": null,
   "id": "88cbc029-58b1-472a-ac92-1889d95e025c",
   "metadata": {},
   "outputs": [],
   "source": []
  }
 ],
 "metadata": {
  "kernelspec": {
   "display_name": "Python 3 ",
   "language": "python",
   "name": "python3"
  },
  "language_info": {
   "codemirror_mode": {
    "name": "ipython",
    "version": 3
   },
   "file_extension": ".py",
   "mimetype": "text/x-python",
   "name": "python",
   "nbconvert_exporter": "python",
   "pygments_lexer": "ipython3",
   "version": "3.9.6"
  }
 },
 "nbformat": 4,
 "nbformat_minor": 5
}
